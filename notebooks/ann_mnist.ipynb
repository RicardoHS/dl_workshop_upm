{
 "cells": [
  {
   "cell_type": "markdown",
   "metadata": {},
   "source": [
    "# MNIST\n",
    "This notebook introduces some aspects of the Keras API, demonstrated on the MNIST handwritten digit data set (a classic benchmark in computer vision)."
   ]
  },
  {
   "cell_type": "code",
   "execution_count": 1,
   "metadata": {
    "collapsed": false
   },
   "outputs": [],
   "source": [
    "%matplotlib inline\n",
    "%matplotlib notebook\n",
    "import numpy as np\n",
    "import matplotlib.pyplot as plt"
   ]
  },
  {
   "cell_type": "code",
   "execution_count": 2,
   "metadata": {
    "collapsed": false
   },
   "outputs": [
    {
     "name": "stderr",
     "output_type": "stream",
     "text": [
      "/usr/local/lib/python3.6/dist-packages/h5py/__init__.py:36: FutureWarning: Conversion of the second argument of issubdtype from `float` to `np.floating` is deprecated. In future, it will be treated as `np.float64 == np.dtype(float).type`.\n",
      "  from ._conv import register_converters as _register_converters\n",
      "Using TensorFlow backend.\n"
     ]
    }
   ],
   "source": [
    "# Import the MNIST data set (integrated in Keras)\n",
    "from keras.datasets import mnist\n",
    "(x_train_mnist, y_train_mnist), (x_test_mnist, y_test_mnist) = mnist.load_data()"
   ]
  },
  {
   "cell_type": "code",
   "execution_count": 3,
   "metadata": {
    "collapsed": false
   },
   "outputs": [
    {
     "name": "stdout",
     "output_type": "stream",
     "text": [
      "(42713) Label: 1\n"
     ]
    },
    {
     "data": {
      "text/plain": [
       "<matplotlib.image.AxesImage at 0x7f741ec5b160>"
      ]
     },
     "execution_count": 3,
     "metadata": {},
     "output_type": "execute_result"
    },
    {
     "data": {
      "image/png": "[encoded data removed]",
      "text/plain": [
       "<Figure size 432x288 with 1 Axes>"
      ]
     },
     "metadata": {},
     "output_type": "display_data"
    }
   ],
   "source": [
    "# Plot a random instance\n",
    "i = np.random.choice(np.arange(x_train_mnist.shape[0]), 1)[0]\n",
    "print('({}) Label: {}'.format(i, y_train_mnist[i]))\n",
    "plt.imshow(x_train_mnist[i],cmap='gray')"
   ]
  },
  {
   "cell_type": "code",
   "execution_count": 4,
   "metadata": {
    "collapsed": true
   },
   "outputs": [],
   "source": [
    "# The input data consists of 28x28 images. However, models like logistic regression or regular neural networks\n",
    "# do not understand 2D input. Therefore, we flatten the input images to convert them into 1D vectors\n",
    "x_train_flat = x_train_mnist.reshape([60000, 28*28])\n",
    "x_test_flat = x_test_mnist.reshape([10000, 28*28])"
   ]
  },
  {
   "cell_type": "code",
   "execution_count": 5,
   "metadata": {
    "collapsed": false
   },
   "outputs": [
    {
     "data": {
      "text/plain": [
       "LogisticRegression(C=1.0, class_weight=None, dual=False, fit_intercept=True,\n",
       "          intercept_scaling=1, max_iter=100, multi_class='multinomial',\n",
       "          n_jobs=-1, penalty='l2', random_state=None, solver='lbfgs',\n",
       "          tol=0.0001, verbose=0, warm_start=False)"
      ]
     },
     "execution_count": 5,
     "metadata": {},
     "output_type": "execute_result"
    }
   ],
   "source": [
    "# Train a logistic (softmax) regression model on MNIST to demonstrate poor performance\n",
    "from sklearn.linear_model import LogisticRegression\n",
    "clf = LogisticRegression(multi_class='multinomial', solver='lbfgs',n_jobs=-1)\n",
    "clf.fit(x_train_flat,y_train_mnist)"
   ]
  },
  {
   "cell_type": "code",
   "execution_count": 6,
   "metadata": {
    "collapsed": false
   },
   "outputs": [
    {
     "name": "stdout",
     "output_type": "stream",
     "text": [
      "Train accuracy: 0.9339166666666666\n",
      "Test accuracy: 0.9255\n"
     ]
    }
   ],
   "source": [
    "# Print accuracy to evaluate the performance of logistic regression\n",
    "from sklearn import metrics\n",
    "print('Train accuracy: {}'.format(metrics.accuracy_score(y_train_mnist, clf.predict(x_train_flat))))\n",
    "print('Test accuracy: {}'.format(metrics.accuracy_score(y_test_mnist, clf.predict(x_test_flat))))"
   ]
  },
  {
   "cell_type": "code",
   "execution_count": 7,
   "metadata": {
    "collapsed": false
   },
   "outputs": [],
   "source": [
    "# Build a neural network. Option 1: 1 layer (equivalent to logistic regression)\n",
    "from keras.models import Sequential\n",
    "from keras.layers import Dense, Activation\n",
    "model = Sequential()\n",
    "model.add(Dense(units=10, input_dim=28*28))\n",
    "model.add(Activation('softmax'))"
   ]
  },
  {
   "cell_type": "code",
   "execution_count": 8,
   "metadata": {
    "collapsed": false
   },
   "outputs": [
    {
     "name": "stdout",
     "output_type": "stream",
     "text": [
      "_________________________________________________________________\n",
      "Layer (type)                 Output Shape              Param #   \n",
      "=================================================================\n",
      "dense_1 (Dense)              (None, 10)                7850      \n",
      "_________________________________________________________________\n",
      "activation_1 (Activation)    (None, 10)                0         \n",
      "=================================================================\n",
      "Total params: 7,850\n",
      "Trainable params: 7,850\n",
      "Non-trainable params: 0\n",
      "_________________________________________________________________\n"
     ]
    }
   ],
   "source": [
    "# Print a representation of the network architecture\n",
    "# It's always a good idea to print this visualization of the network, to make sure we have built what we had in mind\n",
    "# Also, it is important to know how many parameters we are going to have to estimate.\n",
    "model.summary()"
   ]
  },
  {
   "cell_type": "code",
   "execution_count": 9,
   "metadata": {
    "collapsed": true
   },
   "outputs": [],
   "source": [
    "# Build a neural network\n",
    "from keras.models import Sequential\n",
    "from keras.layers import Dense, Activation\n",
    "\n",
    "model = Sequential()\n",
    "\n",
    "model.add(Dense(units=64, input_dim=28*28))\n",
    "model.add(Activation('relu'))\n",
    "\n",
    "model.add(Dense(units=10))\n",
    "model.add(Activation('softmax'))"
   ]
  },
  {
   "cell_type": "code",
   "execution_count": 10,
   "metadata": {
    "collapsed": false
   },
   "outputs": [
    {
     "name": "stdout",
     "output_type": "stream",
     "text": [
      "_________________________________________________________________\n",
      "Layer (type)                 Output Shape              Param #   \n",
      "=================================================================\n",
      "dense_2 (Dense)              (None, 64)                50240     \n",
      "_________________________________________________________________\n",
      "activation_2 (Activation)    (None, 64)                0         \n",
      "_________________________________________________________________\n",
      "dense_3 (Dense)              (None, 10)                650       \n",
      "_________________________________________________________________\n",
      "activation_3 (Activation)    (None, 10)                0         \n",
      "=================================================================\n",
      "Total params: 50,890\n",
      "Trainable params: 50,890\n",
      "Non-trainable params: 0\n",
      "_________________________________________________________________\n"
     ]
    }
   ],
   "source": [
    "model.summary()"
   ]
  },
  {
   "cell_type": "code",
   "execution_count": 11,
   "metadata": {
    "collapsed": true
   },
   "outputs": [],
   "source": [
    "model.compile(loss='categorical_crossentropy',\n",
    "              optimizer='adam',\n",
    "              metrics=['accuracy'])"
   ]
  },
  {
   "cell_type": "code",
   "execution_count": 12,
   "metadata": {
    "collapsed": true
   },
   "outputs": [],
   "source": [
    "def get_splits(X, y, ratio=0.1, cat=False):\n",
    "    \"\"\"\n",
    "    Finds a random split of size ratio*size(data).\n",
    "    Returns the corresponding splits of X and y.\n",
    "    \"\"\"\n",
    "    val_ids = np.random.choice(np.arange(X.shape[0]), int(X.shape[0]*ratio), replace=False)\n",
    "    train_ids = np.delete(np.arange(X.shape[0]), val_ids)\n",
    "    x_train = X[train_ids,:]\n",
    "    x_val = X[val_ids,:]\n",
    "    if cat:\n",
    "        y_train = y[train_ids,:]\n",
    "        y_val = y[val_ids,:]\n",
    "    else:\n",
    "        y_train = y[train_ids]\n",
    "        y_val = y[val_ids]                \n",
    "    return x_train, y_train, x_val, y_val"
   ]
  },
  {
   "cell_type": "code",
   "execution_count": 13,
   "metadata": {
    "collapsed": false
   },
   "outputs": [
    {
     "name": "stdout",
     "output_type": "stream",
     "text": [
      "Train: (57000, 784). Validation: (3000, 784)\n"
     ]
    }
   ],
   "source": [
    "# This is a very important step when training neural networks.\n",
    "# Since the objective function is usually very complex, the optimization algorithm can take many iterations.\n",
    "# In addition, if the network is sufficiently complex it can overfit the training set.\n",
    "#\n",
    "# This problem can be diminished by keeping aside a small split of the training data and periodically evaluating\n",
    "# the loss of the model on it. \n",
    "x_train, y_train, x_val, y_val = get_splits(x_train_flat, y_train_mnist, ratio=0.05, cat=False)\n",
    "print('Train: {}. Validation: {}'.format(x_train.shape, x_val.shape))"
   ]
  },
  {
   "cell_type": "code",
   "execution_count": 14,
   "metadata": {
    "collapsed": true
   },
   "outputs": [],
   "source": [
    "# To optimize objectives like categorical cross entropy (adequate for softmax output), we need to convert\n",
    "# the labels to one-hot encoding (e.g. label 2 turns into [0,0,1,0,0,0,0,0,0,0])\n",
    "from keras import utils\n",
    "y_train = utils.to_categorical(y_train, num_classes=10)\n",
    "y_val = utils.to_categorical(y_val, num_classes=10)\n",
    "y_test = utils.to_categorical(y_test_mnist, num_classes=10)"
   ]
  },
  {
   "cell_type": "code",
   "execution_count": 15,
   "metadata": {
    "collapsed": false
   },
   "outputs": [
    {
     "data": {
      "text/plain": [
       "array([0., 0., 0., 0., 0., 1., 0., 0., 0., 0.], dtype=float32)"
      ]
     },
     "execution_count": 15,
     "metadata": {},
     "output_type": "execute_result"
    }
   ],
   "source": [
    "# Example of one-hot encoded label\n",
    "y_train[0]"
   ]
  },
  {
   "cell_type": "code",
   "execution_count": 16,
   "metadata": {
    "collapsed": false
   },
   "outputs": [
    {
     "name": "stdout",
     "output_type": "stream",
     "text": [
      "Train on 57000 samples, validate on 3000 samples\n",
      "Epoch 1/10\n",
      "57000/57000 [==============================] - 0s 8us/step - loss: 10.1148 - acc: 0.3680 - val_loss: 8.9890 - val_acc: 0.4397\n",
      "Epoch 2/10\n",
      "57000/57000 [==============================] - 0s 6us/step - loss: 7.1733 - acc: 0.5506 - val_loss: 6.3224 - val_acc: 0.6053\n",
      "Epoch 3/10\n",
      "57000/57000 [==============================] - 0s 6us/step - loss: 5.5204 - acc: 0.6539 - val_loss: 5.7707 - val_acc: 0.6393\n",
      "Epoch 4/10\n",
      "57000/57000 [==============================] - 0s 6us/step - loss: 5.3041 - acc: 0.6685 - val_loss: 5.6134 - val_acc: 0.6500\n",
      "Epoch 5/10\n",
      "57000/57000 [==============================] - 0s 6us/step - loss: 5.1907 - acc: 0.6754 - val_loss: 5.4666 - val_acc: 0.6583\n",
      "Epoch 6/10\n",
      "57000/57000 [==============================] - 0s 6us/step - loss: 4.7362 - acc: 0.7022 - val_loss: 4.4874 - val_acc: 0.7160\n",
      "Epoch 7/10\n",
      "57000/57000 [==============================] - 0s 6us/step - loss: 3.9906 - acc: 0.7487 - val_loss: 4.1683 - val_acc: 0.7360\n",
      "Epoch 8/10\n",
      "57000/57000 [==============================] - 0s 6us/step - loss: 3.7898 - acc: 0.7612 - val_loss: 3.9511 - val_acc: 0.7520\n",
      "Epoch 9/10\n",
      "57000/57000 [==============================] - 0s 6us/step - loss: 3.7487 - acc: 0.7643 - val_loss: 4.0024 - val_acc: 0.7470\n",
      "Epoch 10/10\n",
      "57000/57000 [==============================] - 0s 6us/step - loss: 3.7006 - acc: 0.7673 - val_loss: 3.9165 - val_acc: 0.7537\n"
     ]
    },
    {
     "data": {
      "text/plain": [
       "<keras.callbacks.History at 0x7f745db28d30>"
      ]
     },
     "execution_count": 16,
     "metadata": {},
     "output_type": "execute_result"
    }
   ],
   "source": [
    "# Train the model for 10 epochs with full gradient\n",
    "model.fit(x_train, y_train, epochs=10, batch_size=1024, validation_data=(x_val, y_val))"
   ]
  },
  {
   "cell_type": "code",
   "execution_count": 17,
   "metadata": {
    "collapsed": true
   },
   "outputs": [],
   "source": [
    "# Lists for monitoring progress\n",
    "train_loss = []\n",
    "val_loss = []"
   ]
  },
  {
   "cell_type": "code",
   "execution_count": 31,
   "metadata": {
    "collapsed": false
   },
   "outputs": [
    {
     "data": {
      "image/png": "[encoded data removed]",
      "text/plain": [
       "<Figure size 432x288 with 1 Axes>"
      ]
     },
     "metadata": {},
     "output_type": "display_data"
    }
   ],
   "source": [
    "%matplotlib inline\n",
    "# Minibatch gradient descent\n",
    "# Here we try another approach. Usually, neural networks are not trained computing the full gradient,\n",
    "# but only the gradient on a small batch of data (usually a not too large power of 2).\n",
    "# This can help avoid overfitting, escape local minima and get more frequent progress reports\n",
    "fig = plt.figure()\n",
    "ax = fig.gca()\n",
    "\n",
    "for i in range(50):\n",
    "    history = model.fit(x_train, y_train, epochs=1, batch_size=128, verbose=0, validation_data=(x_val, y_val))\n",
    "    \n",
    "    train_loss.append(history.history['loss'])\n",
    "    val_loss.append(history.history['val_loss'])\n",
    "    \n",
    "    ax.clear()    \n",
    "    ax.plot(train_loss, color='red', label='Train')\n",
    "    ax.plot(val_loss, color='blue', label='Validation')\n",
    "\n",
    "    fig.canvas.draw()        "
   ]
  },
  {
   "cell_type": "code",
   "execution_count": 19,
   "metadata": {
    "collapsed": false
   },
   "outputs": [
    {
     "data": {
      "text/plain": [
       "[array([[-0.06582004,  0.07635766,  0.03274237, ..., -0.03097502,\n",
       "         -0.07527821,  0.06294703],\n",
       "        [ 0.02427165, -0.01465698,  0.034275  , ...,  0.01206943,\n",
       "         -0.07522933,  0.07915502],\n",
       "        [-0.03964326, -0.04427228, -0.07570299, ...,  0.01844554,\n",
       "         -0.04757985,  0.00065866],\n",
       "        ...,\n",
       "        [ 0.06310674,  0.03993493, -0.01464113, ..., -0.04474762,\n",
       "         -0.02967824,  0.01836045],\n",
       "        [ 0.0668015 ,  0.081857  ,  0.05584352, ..., -0.00390657,\n",
       "          0.08394095,  0.00908231],\n",
       "        [-0.07942335, -0.08273802,  0.07657973, ...,  0.05031789,\n",
       "          0.020321  , -0.03804052]], dtype=float32),\n",
       " array([-0.00155749, -0.01942528,  0.00392969,  0.02197055,  0.01212052,\n",
       "         0.00223644, -0.03523205, -0.02496085, -0.01933135, -0.00308061,\n",
       "        -0.0124211 , -0.0136145 , -0.00587517, -0.0293488 , -0.01147632,\n",
       "        -0.00386952,  0.05121748, -0.00526512, -0.00656253, -0.00910826,\n",
       "         0.00718794, -0.01570737, -0.02068973, -0.00792776,  0.02200677,\n",
       "        -0.0348658 ,  0.00328657,  0.03880818, -0.01708487, -0.02182418,\n",
       "         0.00967057, -0.00778627, -0.01724988, -0.01355393, -0.04921246,\n",
       "         0.00156169, -0.01594508, -0.05439714,  0.012036  , -0.0063427 ,\n",
       "         0.0276132 , -0.00932199, -0.01302703, -0.01282383, -0.0016548 ,\n",
       "        -0.02175902,  0.01601521, -0.0095695 , -0.01910585,  0.0210902 ,\n",
       "         0.03170872,  0.01149987, -0.02523962,  0.0187625 , -0.03052628,\n",
       "         0.00074365, -0.04284913, -0.02020754,  0.00508802, -0.02958482,\n",
       "        -0.01754187, -0.03621989, -0.00121089, -0.00803506], dtype=float32),\n",
       " array([[ 0.15310366, -0.2093502 , -0.0968565 ,  0.31149364, -0.14921318,\n",
       "          0.15277293, -0.06845622, -0.14174514, -0.05564715, -0.08576178],\n",
       "        [-0.18328644, -0.25045225, -0.23230055, -0.11541519,  0.0012842 ,\n",
       "         -0.27230197,  0.11576039,  0.05199299,  0.19849844,  0.08601404],\n",
       "        [ 0.0624472 ,  0.05849793,  0.12106355, -0.18769287, -0.28589743,\n",
       "          0.04751882, -0.11485725,  0.10958636,  0.06830837,  0.15771998],\n",
       "        [-0.27477297, -0.31635204,  0.12548496, -0.12528054,  0.0450606 ,\n",
       "          0.18768878, -0.29253685,  0.20431142,  0.06846827,  0.28506744],\n",
       "        [ 0.04851563,  0.31905404,  0.19557492,  0.02561705,  0.01321552,\n",
       "         -0.22133058, -0.12270512,  0.08340622, -0.3205615 , -0.17094882],\n",
       "        [ 0.09564548, -0.21082777, -0.00717542, -0.22347291,  0.09642687,\n",
       "         -0.22771548,  0.2488884 ,  0.21491036, -0.15790416,  0.19690934],\n",
       "        [-0.05853   ,  0.23720527,  0.12041638, -0.01527882, -0.15405391,\n",
       "         -0.00934786,  0.24786606, -0.05671937,  0.2231117 , -0.04708087],\n",
       "        [ 0.06694597,  0.05216102,  0.27784625, -0.01298367, -0.11483997,\n",
       "         -0.03589334, -0.24400635,  0.10851266,  0.27117565,  0.12454428],\n",
       "        [-0.16692033,  0.16474956, -0.0832508 , -0.2553684 ,  0.14670362,\n",
       "         -0.26717567, -0.09340765, -0.11393207,  0.07491072, -0.1910338 ],\n",
       "        [ 0.2159996 ,  0.16872993, -0.11183681,  0.07671282, -0.01430561,\n",
       "         -0.05033003,  0.23828802, -0.2246619 , -0.21327877, -0.29162422],\n",
       "        [-0.28976852, -0.0810551 ,  0.22068971,  0.09473298, -0.2424202 ,\n",
       "          0.06806067,  0.07921727,  0.0704983 , -0.14542386,  0.18171684],\n",
       "        [-0.22831318,  0.09105439,  0.11380371, -0.11466449, -0.25080097,\n",
       "         -0.05054822, -0.26277226,  0.02469635,  0.18918164, -0.1367274 ],\n",
       "        [ 0.07226623, -0.13591033,  0.12220629,  0.05732121,  0.05078265,\n",
       "          0.27459833,  0.13719629,  0.09741433, -0.08633702,  0.05165302],\n",
       "        [ 0.2433134 , -0.23276591,  0.14687577,  0.23692979,  0.09453071,\n",
       "          0.11247677, -0.02907257,  0.01604412,  0.16311826, -0.09035337],\n",
       "        [ 0.13760388,  0.03207486, -0.04008232,  0.13419047, -0.17145364,\n",
       "          0.01349607,  0.05318233, -0.1125786 ,  0.20674898, -0.12150589],\n",
       "        [-0.11530655, -0.26691735,  0.21319208,  0.02491067,  0.03363271,\n",
       "         -0.05381639,  0.12582074, -0.11049751, -0.1392603 , -0.08131739],\n",
       "        [ 0.18630971,  0.09518364,  0.12193685, -0.02222681, -0.37470773,\n",
       "         -0.02495053, -0.26347426,  0.07069736, -0.31491417, -0.19618452],\n",
       "        [ 0.09050073,  0.07735009,  0.13444741, -0.08242749, -0.25975338,\n",
       "         -0.21346006, -0.32378712, -0.1176227 , -0.16407517, -0.17401907],\n",
       "        [-0.2909894 ,  0.04049588,  0.06627308,  0.19182567, -0.24477102,\n",
       "         -0.24483371, -0.17941043,  0.15709399,  0.16809495,  0.13249451],\n",
       "        [-0.03390074,  0.01300017,  0.2750152 , -0.09405798,  0.19636597,\n",
       "          0.24508598,  0.1704168 , -0.09753671, -0.3127997 ,  0.17351176],\n",
       "        [ 0.17580542, -0.02262403, -0.1061515 ,  0.11400068, -0.26806828,\n",
       "         -0.04382594, -0.14763847, -0.03674192, -0.08150661, -0.16419265],\n",
       "        [-0.06050061,  0.09880524, -0.06845239, -0.2245333 , -0.1758533 ,\n",
       "          0.27371234,  0.2614897 , -0.09949335, -0.06480737,  0.01838287],\n",
       "        [ 0.22827709, -0.00730677, -0.01799368,  0.29503164,  0.13151278,\n",
       "          0.20805301,  0.0004766 ,  0.36331636, -0.13879398, -0.3178057 ],\n",
       "        [-0.25057033,  0.23077343,  0.21395202,  0.2679549 ,  0.01934259,\n",
       "         -0.12080982,  0.00134852,  0.24516517, -0.03094995, -0.24482803],\n",
       "        [ 0.25678325,  0.04768924, -0.24413218,  0.12503299,  0.08043449,\n",
       "          0.25996414,  0.03168352,  0.23265822, -0.08928552, -0.1926249 ],\n",
       "        [-0.1508764 ,  0.04023262,  0.07917974, -0.08826116, -0.24098153,\n",
       "          0.04231954,  0.05583598, -0.30277264,  0.02335862, -0.18946049],\n",
       "        [-0.23387086,  0.19785568,  0.07507697, -0.24463052, -0.0532594 ,\n",
       "          0.07991746, -0.2204919 ,  0.17556065,  0.06907831,  0.07466608],\n",
       "        [-0.01023615, -0.29697973, -0.04361657, -0.24698144,  0.18284492,\n",
       "         -0.23885038,  0.07064604,  0.23361365,  0.11746188,  0.19849375],\n",
       "        [ 0.06723493,  0.19747606,  0.05875519,  0.30165303, -0.26366794,\n",
       "         -0.2889206 ,  0.20772286,  0.14815722,  0.01057771,  0.08330879],\n",
       "        [ 0.17111889, -0.08603284,  0.16090697,  0.1026418 , -0.26887587,\n",
       "         -0.23422346,  0.08283976,  0.0164505 ,  0.05078906, -0.2735037 ],\n",
       "        [-0.23438884,  0.03520311, -0.1648348 ,  0.05010011,  0.11867268,\n",
       "          0.2101618 , -0.1766016 , -0.13233472,  0.1486315 , -0.07020614],\n",
       "        [-0.15483151, -0.05990597,  0.09475791,  0.2568876 ,  0.15129332,\n",
       "         -0.26998952, -0.02091724,  0.273986  ,  0.16160549,  0.02987255],\n",
       "        [-0.04438708,  0.22388938, -0.2495661 ,  0.18705688,  0.2162085 ,\n",
       "          0.06481095, -0.01704943,  0.14327204, -0.2216172 , -0.0952269 ],\n",
       "        [ 0.02146652,  0.04024285,  0.15745379,  0.00386342, -0.03831595,\n",
       "          0.01732522,  0.2137467 ,  0.09372245,  0.19310276, -0.05144756],\n",
       "        [ 0.03484288, -0.21142136, -0.09076537, -0.26583967, -0.2231079 ,\n",
       "         -0.02672025,  0.13294233, -0.09165259,  0.11324947, -0.10542046],\n",
       "        [-0.23476003,  0.1330497 ,  0.02732962, -0.26654324,  0.04999436,\n",
       "          0.00075829, -0.25688556,  0.14043798, -0.28306967,  0.11983085],\n",
       "        [-0.02050053, -0.12687357,  0.23391601, -0.10006314, -0.03715585,\n",
       "          0.15239474,  0.23318273, -0.23989019, -0.11328594,  0.07288145],\n",
       "        [-0.06173017,  0.16280654, -0.1055943 ,  0.16464154,  0.13301599,\n",
       "         -0.07405188, -0.17783114, -0.16838111,  0.19968095,  0.06300747],\n",
       "        [ 0.07277083,  0.16110525, -0.14836803,  0.03453629,  0.18670323,\n",
       "         -0.09015988,  0.12455677, -0.1733222 ,  0.1382811 ,  0.11564229],\n",
       "        [ 0.09491304,  0.22853428, -0.15467629, -0.2116404 ,  0.24572752,\n",
       "         -0.09780987, -0.07039594, -0.22090815, -0.03674818,  0.08425862],\n",
       "        [-0.21523605, -0.08268126, -0.15304577,  0.1743556 ,  0.1780177 ,\n",
       "         -0.2775335 , -0.10365552,  0.17360814, -0.34422675,  0.2578097 ],\n",
       "        [-0.12158611,  0.14413932,  0.22812821,  0.03619833,  0.28314897,\n",
       "          0.15720044,  0.23600353, -0.2576181 , -0.07794639,  0.21345136],\n",
       "        [-0.16141662,  0.04638828,  0.2256386 ,  0.30359426,  0.16821958,\n",
       "         -0.23738898, -0.09322186, -0.2048817 ,  0.07515287,  0.2713791 ],\n",
       "        [-0.24760479, -0.26493457, -0.03148479,  0.07306899,  0.24842964,\n",
       "          0.03053803,  0.04244043, -0.2343955 , -0.03669876, -0.13914673],\n",
       "        [-0.2965309 , -0.21090996, -0.08228375,  0.15403616,  0.07666032,\n",
       "         -0.03253327,  0.16687174,  0.17869084,  0.04575305, -0.20820948],\n",
       "        [-0.07879336,  0.23396355,  0.20509192, -0.25195298,  0.2694171 ,\n",
       "         -0.21503359, -0.2708189 ,  0.3120595 , -0.23072441,  0.06660267],\n",
       "        [-0.23016341,  0.22306453,  0.01945284,  0.08497122, -0.0825121 ,\n",
       "         -0.05182353, -0.11412545,  0.18124452, -0.20133473,  0.07929663],\n",
       "        [ 0.19810298,  0.06359366,  0.05732176, -0.31846443,  0.28189966,\n",
       "          0.06501499, -0.20072962, -0.20732312,  0.16637583, -0.08201496],\n",
       "        [-0.2871545 ,  0.2227562 ,  0.2070228 ,  0.22013217, -0.24885382,\n",
       "         -0.25408563, -0.17901324, -0.23895401, -0.01084935, -0.11304078],\n",
       "        [ 0.18329135,  0.22352411, -0.29122776, -0.17612536,  0.30048686,\n",
       "         -0.12871498,  0.02348422,  0.00751205, -0.16495979,  0.14381155],\n",
       "        [ 0.10386445,  0.03782671, -0.30300778, -0.0139079 ,  0.21894   ,\n",
       "         -0.09107143, -0.22908133,  0.1308707 , -0.01975695,  0.11736266],\n",
       "        [ 0.22112845,  0.21658295,  0.31974885,  0.12881626,  0.2986754 ,\n",
       "         -0.26760715,  0.10808834,  0.04491182,  0.10996471,  0.08323764],\n",
       "        [ 0.14727405,  0.008347  , -0.20713568, -0.2447978 , -0.25359517,\n",
       "         -0.17677987,  0.23524345, -0.24793684,  0.10589338, -0.06347317],\n",
       "        [ 0.2095434 , -0.13571368, -0.10942591,  0.12443999,  0.21864392,\n",
       "         -0.14009303, -0.13724254,  0.27052528, -0.23860541, -0.09089759],\n",
       "        [-0.1893935 ,  0.12890768,  0.02167244, -0.17294587,  0.20169915,\n",
       "         -0.10328792,  0.19004148, -0.23126097,  0.16582863, -0.02805491],\n",
       "        [-0.13788505,  0.05779364,  0.2618136 ,  0.20091926, -0.14333192,\n",
       "         -0.25722128,  0.10388635,  0.2781425 , -0.16568305, -0.08309499],\n",
       "        [ 0.12922469, -0.020564  , -0.23644894, -0.13684042, -0.1297345 ,\n",
       "         -0.13146752,  0.29117507, -0.08535258,  0.16305195,  0.05982883],\n",
       "        [ 0.24936104, -0.02670441,  0.00860279, -0.14230122,  0.07108292,\n",
       "          0.24044728,  0.2268242 , -0.06307209, -0.00123535, -0.27669552],\n",
       "        [ 0.04746052,  0.08522309,  0.27220127, -0.20996396, -0.19209947,\n",
       "          0.08808863, -0.28027615, -0.00966065, -0.23169038,  0.18538179],\n",
       "        [ 0.19604453,  0.1171436 ,  0.11739029,  0.14349647,  0.04169099,\n",
       "          0.06840238, -0.06201522, -0.24157745,  0.11629846,  0.02799814],\n",
       "        [-0.20623645, -0.21671915, -0.3189578 ,  0.16872995, -0.31657115,\n",
       "         -0.04512647,  0.121498  ,  0.08638979,  0.08654378, -0.15481457],\n",
       "        [ 0.1957537 ,  0.14914964,  0.20442364, -0.18789573,  0.18266489,\n",
       "         -0.09471156,  0.14333509, -0.01074832,  0.24394263,  0.12713233],\n",
       "        [ 0.2253331 ,  0.01584582, -0.22541058, -0.2674731 , -0.24250738,\n",
       "          0.17978537, -0.10267704, -0.04790142, -0.3341435 ,  0.10724359],\n",
       "        [-0.00052268,  0.274282  , -0.20967215, -0.24629432,  0.08723236,\n",
       "          0.14286372,  0.09740612,  0.05261245, -0.21660021, -0.2022641 ]],\n",
       "       dtype=float32),\n",
       " array([-0.01821761, -0.00425282,  0.00021626,  0.01251952,  0.01392354,\n",
       "        -0.00598638, -0.02953315,  0.02441116, -0.00223521,  0.02632869],\n",
       "       dtype=float32)]"
      ]
     },
     "execution_count": 19,
     "metadata": {},
     "output_type": "execute_result"
    }
   ],
   "source": [
    "# Remember you can get the weights as an array, if you a re curious and want to take a look\n",
    "model.get_weights()"
   ]
  },
  {
   "cell_type": "code",
   "execution_count": 20,
   "metadata": {
    "collapsed": true
   },
   "outputs": [],
   "source": [
    "# You can also easily save the model and its weights for later use\n",
    "model.save('ann_mnist_64_relu.h5')\n",
    "model.save_weights('my_model_weights.h5')"
   ]
  },
  {
   "cell_type": "code",
   "execution_count": 21,
   "metadata": {
    "collapsed": true
   },
   "outputs": [],
   "source": [
    "from sklearn import metrics\n",
    "def evaluate(y, preds, classes=None):\n",
    "    if not classes:\n",
    "        classes = np.unique(y)\n",
    "    \"\"\"\n",
    "    Given a set of labels y and predictions preds, computes precision, recall and F1.\n",
    "    \"\"\"\n",
    "    for i in classes:\n",
    "        preds_i = [1 if j==i else 0 for j in preds]\n",
    "        y_i = [1 if j==i else 0 for j in y]\n",
    "        print('Class {}:'.format(i))    \n",
    "        print('Precision: {}'.format(metrics.precision_score(y_i, preds_i)))\n",
    "        print('Recall: {}'.format(metrics.recall_score(y_i, preds_i)))\n",
    "        print('F1: {}'.format(metrics.f1_score(y_i, preds_i)))\n",
    "        print()"
   ]
  },
  {
   "cell_type": "code",
   "execution_count": 22,
   "metadata": {},
   "outputs": [
    {
     "data": {
      "text/plain": [
       "(10000,)"
      ]
     },
     "execution_count": 22,
     "metadata": {},
     "output_type": "execute_result"
    }
   ],
   "source": [
    "y_test_mnist.shape"
   ]
  },
  {
   "cell_type": "code",
   "execution_count": 32,
   "metadata": {
    "collapsed": false
   },
   "outputs": [
    {
     "name": "stdout",
     "output_type": "stream",
     "text": [
      "[0 1 2 3 4 6 7 8 9]\n",
      "Class 0:\n",
      "Precision: 0.9263157894736842\n",
      "Recall: 0.9877551020408163\n",
      "F1: 0.9560493827160493\n",
      "\n",
      "Class 1:\n",
      "Precision: 0.9780701754385965\n",
      "Recall: 0.9823788546255506\n",
      "F1: 0.9802197802197802\n",
      "\n",
      "Class 2:\n",
      "Precision: 0.8834355828220859\n",
      "Recall: 0.9767441860465116\n",
      "F1: 0.927749654855039\n",
      "\n",
      "Class 3:\n",
      "Precision: 0.5890909090909091\n",
      "Recall: 0.9623762376237623\n",
      "F1: 0.7308270676691729\n",
      "\n",
      "Class 4:\n",
      "Precision: 0.945705824284304\n",
      "Recall: 0.9755600814663951\n",
      "F1: 0.9604010025062656\n",
      "\n",
      "Class 5:\n",
      "Precision: 0.0\n",
      "Recall: 0.0\n",
      "F1: 0.0\n",
      "\n",
      "Class 6:\n",
      "Precision: 0.9480122324159022\n",
      "Recall: 0.9707724425887265\n",
      "F1: 0.9592573491490459\n",
      "\n",
      "Class 7:\n",
      "Precision: 0.967196819085487\n",
      "Recall: 0.9464980544747081\n",
      "F1: 0.9567354965585053\n",
      "\n",
      "Class 8:\n",
      "Precision: 0.840952380952381\n",
      "Recall: 0.9065708418891171\n",
      "F1: 0.8725296442687748\n",
      "\n",
      "Class 9:\n",
      "Precision: 0.9681724845995893\n",
      "Recall: 0.9345887016848364\n",
      "F1: 0.9510842158345941\n",
      "\n"
     ]
    },
    {
     "name": "stderr",
     "output_type": "stream",
     "text": [
      "/usr/local/lib/python3.6/dist-packages/sklearn/metrics/classification.py:1135: UndefinedMetricWarning: Precision is ill-defined and being set to 0.0 due to no predicted samples.\n",
      "  'precision', 'predicted', average, warn_for)\n",
      "/usr/local/lib/python3.6/dist-packages/sklearn/metrics/classification.py:1135: UndefinedMetricWarning: F-score is ill-defined and being set to 0.0 due to no predicted samples.\n",
      "  'precision', 'predicted', average, warn_for)\n"
     ]
    }
   ],
   "source": [
    "# Evaluate the performance of the model\n",
    "# First, we tell the model to give predictions for the test set\n",
    "preds = model.predict(x_test_flat)\n",
    "# Then, we convert the softmax predictions to label form\n",
    "preds = list(map(lambda x: np.argmax(x), preds))\n",
    "print(np.unique(preds))\n",
    "# Now, print some classification metrics (the function above)\n",
    "evaluate(y_test_mnist, preds)"
   ]
  },
  {
   "cell_type": "code",
   "execution_count": 45,
   "metadata": {
    "collapsed": false
   },
   "outputs": [
    {
     "name": "stdout",
     "output_type": "stream",
     "text": [
      "PREDICTION: 8\n"
     ]
    },
    {
     "data": {
      "image/png": "[encoded data removed]",
      "text/plain": [
       "<Figure size 432x288 with 1 Axes>"
      ]
     },
     "metadata": {},
     "output_type": "display_data"
    }
   ],
   "source": [
    "# Guess a random number from the test set\n",
    "x = np.random.choice(np.arange(x_test_flat.shape[0]), 1)\n",
    "x = x_test_flat[x]\n",
    "img_x = x.reshape([28,28])\n",
    "plt.imshow(img_x,cmap='gray')\n",
    "print('PREDICTION: {}'.format(np.argmax(model.predict(x))))"
   ]
  },
  {
   "cell_type": "code",
   "execution_count": 51,
   "metadata": {
    "collapsed": false
   },
   "outputs": [
    {
     "name": "stdout",
     "output_type": "stream",
     "text": [
      "PREDICTION: 4\n"
     ]
    },
    {
     "data": {
      "image/png": "[encoded data removed]",
      "text/plain": [
       "<Figure size 432x288 with 1 Axes>"
      ]
     },
     "metadata": {},
     "output_type": "display_data"
    }
   ],
   "source": [
    "# Guess the number we just wrote by hand!\n",
    "# Try it at home: draw a number on a 28x28 black background, using any Paint-like app. See if the model can guess it\n",
    "import matplotlib.image as mpimg\n",
    "img=mpimg.imread('number.png')\n",
    "x = img[:,:,0].reshape([1,28*28])\n",
    "plt.imshow(img,cmap='gray')\n",
    "print('PREDICTION: {}'.format(np.argmax(model.predict(x))))"
   ]
  }
 ],
 "metadata": {
  "kernelspec": {
   "display_name": "Python 3",
   "language": "python",
   "name": "python3"
  },
  "language_info": {
   "codemirror_mode": {
    "name": "ipython",
    "version": 3
   },
   "file_extension": ".py",
   "mimetype": "text/x-python",
   "name": "python",
   "nbconvert_exporter": "python",
   "pygments_lexer": "ipython3",
   "version": "3.6.5"
  }
 },
 "nbformat": 4,
 "nbformat_minor": 2
}
