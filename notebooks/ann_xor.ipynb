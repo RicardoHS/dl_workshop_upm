{
 "cells": [
  {
   "cell_type": "markdown",
   "metadata": {},
   "source": [
    "# Learning XOR\n",
    "This notebook demonstrates a fundamental motivation of representation learning for machine learning: the XOR function.\n",
    "\n",
    "Learning the XOR function is impossible for a separating-hyperplane based classifier, unless an alternative \n",
    "representation is employed. Neural networks can be viewed as representation learners, and can therefore learn the\n",
    "XOR function (if the architecture is adequate).\n"
   ]
  },
  {
   "cell_type": "code",
   "execution_count": 1,
   "metadata": {
    "collapsed": true
   },
   "outputs": [],
   "source": [
    "%matplotlib inline\n",
    "%matplotlib notebook\n",
    "import numpy as np\n",
    "import matplotlib.pyplot as plt\n",
    "from matplotlib.colors import ListedColormap"
   ]
  },
  {
   "cell_type": "code",
   "execution_count": 2,
   "metadata": {},
   "outputs": [],
   "source": [
    "#source: https://chih-ling-hsu.github.io/2017/08/30/NN-XOR\n",
    "def plot_decision_regions(X, y, classifier, test_idx=None, resolution=0.02):\n",
    "\n",
    "    # setup marker generator and color map\n",
    "    markers = ('s', 'x', 'o', '^', 'v')\n",
    "    colors = ('red', 'blue', 'lightgreen', 'gray', 'cyan')\n",
    "    cmap = ListedColormap(colors[:len(np.unique(y))])\n",
    "\n",
    "    # plot the decision surface\n",
    "    x1_min, x1_max = X[:, 0].min() - 1, X[:, 0].max() + 1\n",
    "    x2_min, x2_max = X[:, 1].min() - 1, X[:, 1].max() + 1\n",
    "    xx1, xx2 = np.meshgrid(np.arange(x1_min, x1_max, resolution),\n",
    "                           np.arange(x2_min, x2_max, resolution))\n",
    "    Z = classifier.predict(np.array([xx1.ravel(), xx2.ravel()]).T)\n",
    "    Z = Z.reshape(xx1.shape)\n",
    "    plt.contourf(xx1, xx2, Z, alpha=0.4, cmap=cmap)\n",
    "    plt.xlim(xx1.min(), xx1.max())\n",
    "    plt.ylim(xx2.min(), xx2.max())\n",
    "\n",
    "    # plot class samples\n",
    "    for idx, cl in enumerate(np.unique(y)):\n",
    "        plt.scatter(x=X[y == cl, 0], y=X[y == cl, 1],\n",
    "                    alpha=0.8, c=cmap(idx),\n",
    "                    marker=markers[idx], label=cl)\n",
    "\n",
    "    # highlight test samples\n",
    "    if test_idx:\n",
    "        # plot all samples\n",
    "        X_test, y_test = X[test_idx, :], y[test_idx]\n",
    "\n",
    "        plt.scatter(X_test[:, 0],\n",
    "                    X_test[:, 1],\n",
    "                    c='',\n",
    "                    alpha=1.0,\n",
    "                    linewidths=1,\n",
    "                    marker='o',\n",
    "                    s=55, label='test set')"
   ]
  },
  {
   "cell_type": "code",
   "execution_count": 3,
   "metadata": {
    "collapsed": true
   },
   "outputs": [],
   "source": [
    "# Build data set (XOR truth table)\n",
    "X = np.array([[0,0],[0,1],[1,0],[1,1]])\n",
    "y = np.array([0,1,1,0])"
   ]
  },
  {
   "cell_type": "code",
   "execution_count": 4,
   "metadata": {},
   "outputs": [
    {
     "data": {
      "image/png": "[encoded data removed]",
      "text/plain": [
       "<Figure size 432x288 with 1 Axes>"
      ]
     },
     "metadata": {},
     "output_type": "display_data"
    }
   ],
   "source": [
    "%matplotlib inline\n",
    "fig = plt.figure()\n",
    "ax = fig.gca()\n",
    "\n",
    "ax.scatter([0,1],[0,1], color='red')\n",
    "ax.scatter([0,1],[1,0])\n",
    "\n",
    "plt.xlabel('X')\n",
    "plt.ylabel('Y')\n",
    "\n",
    "ax.set_ylim(-0.1,1.1)\n",
    "ax.set_ylim(-0.1,1.1)\n",
    "\n",
    "plt.show()"
   ]
  },
  {
   "cell_type": "code",
   "execution_count": 1113,
   "metadata": {
    "collapsed": false
   },
   "outputs": [],
   "source": [
    "# Build a network with w layers: the first one with two neurons, the second with one\n",
    "# Observe that each of these neurons individually looks just like a logistic regression model\n",
    "from keras.models import Sequential\n",
    "from keras.layers import Dense, Activation\n",
    "\n",
    "model = Sequential()\n",
    "\n",
    "model.add(Dense(units=2, input_dim=2,kernel_initializer='random_uniform'))\n",
    "model.add(Activation('sigmoid'))\n",
    "model.add(Dense(units=1))\n",
    "model.add(Activation('sigmoid'))"
   ]
  },
  {
   "cell_type": "code",
   "execution_count": 1114,
   "metadata": {
    "collapsed": true
   },
   "outputs": [],
   "source": [
    "# Keras models need to be compiled once they have been defined\n",
    "# Here we determine the loss function, the optimization algorithm and the\n",
    "# metrics to be computed during optimization\n",
    "model.compile(loss='binary_crossentropy',\n",
    "              optimizer='adam',\n",
    "              metrics=['accuracy'])"
   ]
  },
  {
   "cell_type": "code",
   "execution_count": 1568,
   "metadata": {
    "collapsed": false,
    "scrolled": true
   },
   "outputs": [
    {
     "name": "stdout",
     "output_type": "stream",
     "text": [
      "Epoch 1/10\n",
      "4/4 [==============================] - 0s 372us/step - loss: 0.2158 - acc: 1.0000\n",
      "Epoch 2/10\n",
      "4/4 [==============================] - 0s 407us/step - loss: 0.2157 - acc: 1.0000\n",
      "Epoch 3/10\n",
      "4/4 [==============================] - 0s 363us/step - loss: 0.2156 - acc: 1.0000\n",
      "Epoch 4/10\n",
      "4/4 [==============================] - 0s 361us/step - loss: 0.2154 - acc: 1.0000\n",
      "Epoch 5/10\n",
      "4/4 [==============================] - 0s 385us/step - loss: 0.2153 - acc: 1.0000\n",
      "Epoch 6/10\n",
      "4/4 [==============================] - 0s 307us/step - loss: 0.2152 - acc: 1.0000\n",
      "Epoch 7/10\n",
      "4/4 [==============================] - 0s 334us/step - loss: 0.2151 - acc: 1.0000\n",
      "Epoch 8/10\n",
      "4/4 [==============================] - 0s 472us/step - loss: 0.2150 - acc: 1.0000\n",
      "Epoch 9/10\n",
      "4/4 [==============================] - 0s 820us/step - loss: 0.2149 - acc: 1.0000\n",
      "Epoch 10/10\n",
      "4/4 [==============================] - 0s 499us/step - loss: 0.2148 - acc: 1.0000\n"
     ]
    },
    {
     "data": {
      "text/plain": [
       "<keras.callbacks.History at 0x7f3a0bdcf198>"
      ]
     },
     "execution_count": 1568,
     "metadata": {},
     "output_type": "execute_result"
    }
   ],
   "source": [
    "# This call runs the optimization algorithm, as many times as specified by the \"epochs\" arguments\n",
    "# Generally, this network will have a hard time learning the XOR function, even though it can. This illustrates\n",
    "# a common problem with neural networks: they are difficult to train\n",
    "model.fit(X, y, epochs=10, verbose=1, batch_size=4)"
   ]
  },
  {
   "cell_type": "code",
   "execution_count": 8,
   "metadata": {
    "collapsed": false
   },
   "outputs": [
    {
     "data": {
      "text/plain": [
       "array([[0.31404275],\n",
       "       [0.31820208],\n",
       "       [0.31324327],\n",
       "       [0.31739748]], dtype=float32)"
      ]
     },
     "execution_count": 8,
     "metadata": {},
     "output_type": "execute_result"
    }
   ],
   "source": [
    "# This call applies the function learned by the network to the input data\n",
    "model.predict(X)"
   ]
  },
  {
   "cell_type": "code",
   "execution_count": 1569,
   "metadata": {},
   "outputs": [
    {
     "data": {
      "image/png": "[encoded data removed]",
      "text/plain": [
       "<Figure size 432x288 with 1 Axes>"
      ]
     },
     "metadata": {},
     "output_type": "display_data"
    }
   ],
   "source": [
    "%matplotlib inline\n",
    "plot_decision_regions(X, y, model)\n",
    "plt.xlabel('x-axis')\n",
    "plt.ylabel('y-axis')\n",
    "plt.legend(loc='upper left')\n",
    "plt.tight_layout()\n",
    "plt.show()"
   ]
  },
  {
   "cell_type": "code",
   "execution_count": 10,
   "metadata": {
    "collapsed": false
   },
   "outputs": [
    {
     "data": {
      "text/plain": [
       "[array([[ 0.01827046,  0.001881  ],\n",
       "        [-0.05100195, -0.04623274]], dtype=float32),\n",
       " array([-0.00998452, -0.00998534], dtype=float32),\n",
       " array([[-0.7238223],\n",
       "        [-0.8666697]], dtype=float32),\n",
       " array([0.0099895], dtype=float32)]"
      ]
     },
     "execution_count": 10,
     "metadata": {},
     "output_type": "execute_result"
    }
   ],
   "source": [
    "# We can print the parameters learned by the network\n",
    "weights = model.get_weights()\n",
    "weights"
   ]
  }
 ],
 "metadata": {
  "kernelspec": {
   "display_name": "Python 3",
   "language": "python",
   "name": "python3"
  },
  "language_info": {
   "codemirror_mode": {
    "name": "ipython",
    "version": 3
   },
   "file_extension": ".py",
   "mimetype": "text/x-python",
   "name": "python",
   "nbconvert_exporter": "python",
   "pygments_lexer": "ipython3",
   "version": "3.6.5"
  }
 },
 "nbformat": 4,
 "nbformat_minor": 2
}
