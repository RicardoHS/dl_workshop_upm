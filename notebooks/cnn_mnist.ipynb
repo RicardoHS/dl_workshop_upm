{
 "cells": [
  {
   "cell_type": "markdown",
   "metadata": {},
   "source": [
    "# MNIST with CNNs\n",
    "This notebook introduces convolutional neural networks, widely employed for computer vision, using Keras. Their performance is demonstrated on the MNIST handwritten digit data set."
   ]
  },
  {
   "cell_type": "code",
   "execution_count": 9,
   "metadata": {
    "collapsed": false
   },
   "outputs": [],
   "source": [
    "%matplotlib inline\n",
    "%matplotlib notebook\n",
    "from tensorflow.python.keras.datasets import mnist\n",
    "from tensorflow.python.keras import backend as K\n",
    "import numpy as np\n",
    "import matplotlib.pyplot as plt"
   ]
  },
  {
   "cell_type": "code",
   "execution_count": 2,
   "metadata": {
    "collapsed": false
   },
   "outputs": [
    {
     "name": "stdout",
     "output_type": "stream",
     "text": [
      "x_train shape: (60000, 28, 28, 1)\n",
      "60000 train samples\n",
      "10000 test samples\n"
     ]
    }
   ],
   "source": [
    "# input image dimensions\n",
    "\n",
    "img_rows, img_cols = 28, 28\n",
    "\n",
    "# the data, shuffled and split between train and test sets\n",
    "(x_train, y_train), (x_test, y_test) = mnist.load_data()\n",
    "\n",
    "if K.image_data_format() == 'channels_first':\n",
    "    x_train = x_train.reshape(x_train.shape[0], 1, img_rows, img_cols)\n",
    "    x_test = x_test.reshape(x_test.shape[0], 1, img_rows, img_cols)\n",
    "    input_shape = (1, img_rows, img_cols)\n",
    "else:\n",
    "    x_train = x_train.reshape(x_train.shape[0], img_rows, img_cols, 1)\n",
    "    x_test = x_test.reshape(x_test.shape[0], img_rows, img_cols, 1)\n",
    "    input_shape = (img_rows, img_cols, 1)\n",
    "\n",
    "x_train = x_train.astype('float32')\n",
    "x_test = x_test.astype('float32')\n",
    "x_train /= 255\n",
    "x_test /= 255\n",
    "print('x_train shape:', x_train.shape)\n",
    "print( x_train.shape[0], 'train samples')\n",
    "print( x_test.shape[0], 'test samples')"
   ]
  },
  {
   "cell_type": "code",
   "execution_count": 3,
   "metadata": {
    "collapsed": true
   },
   "outputs": [],
   "source": [
    "def get_splits(X, y, ratio=0.1, cat=False):\n",
    "    \"\"\"\n",
    "    Finds a random split of size ratio*size(data).\n",
    "    Returns the corresponding splits of X and y.\n",
    "    \"\"\"\n",
    "    val_ids = np.random.choice(np.arange(X.shape[0]), int(X.shape[0]*ratio), replace=False)\n",
    "    train_ids = np.delete(np.arange(X.shape[0]), val_ids)\n",
    "    x_train = X[train_ids,:]\n",
    "    x_val = X[val_ids,:]\n",
    "    if cat:\n",
    "        y_train = y[train_ids,:]\n",
    "        y_val = y[val_ids,:]\n",
    "    else:\n",
    "        y_train = y[train_ids]\n",
    "        y_val = y[val_ids]                \n",
    "    return x_train, y_train, x_val, y_val"
   ]
  },
  {
   "cell_type": "code",
   "execution_count": 4,
   "metadata": {
    "collapsed": false
   },
   "outputs": [
    {
     "name": "stdout",
     "output_type": "stream",
     "text": [
      "Train: (57000, 28, 28, 1). Validation: (3000, 28, 28, 1)\n"
     ]
    }
   ],
   "source": [
    "# Split apart validation set\n",
    "x_train, y_train, x_val, y_val = get_splits(x_train, y_train, ratio=0.05, cat=False)\n",
    "print( 'Train: {}. Validation: {}'.format(x_train.shape, x_val.shape))"
   ]
  },
  {
   "cell_type": "code",
   "execution_count": 5,
   "metadata": {
    "collapsed": false
   },
   "outputs": [],
   "source": [
    "# convert labels to one-hot form\n",
    "num_classes=10\n",
    "y_train = keras.utils.to_categorical(y_train, num_classes)\n",
    "y_val = keras.utils.to_categorical(y_val, num_classes)\n",
    "y_test = keras.utils.to_categorical(y_test, num_classes)"
   ]
  },
  {
   "cell_type": "code",
   "execution_count": 11,
   "metadata": {
    "collapsed": false
   },
   "outputs": [],
   "source": [
    "# Build the CNN\n",
    "from tensorflow.python.keras.models import Sequential\n",
    "from tensorflow.python.keras.layers import Dense, Dropout, Flatten\n",
    "from tensorflow.python.keras.layers import Conv2D, MaxPooling2D\n",
    "\n",
    "model = Sequential()\n",
    "model.add(Conv2D(32, kernel_size=(3, 3),\n",
    "                 activation='relu',\n",
    "                 input_shape=(img_rows, img_cols, 1)))\n",
    "model.add(Conv2D(64, (3, 3), activation='relu'))\n",
    "model.add(MaxPooling2D(pool_size=(2, 2)))\n",
    "model.add(Dropout(0.25))\n",
    "model.add(Flatten())\n",
    "model.add(Dense(128, activation='relu'))\n",
    "model.add(Dropout(0.5))\n",
    "model.add(Dense(num_classes, activation='softmax'))"
   ]
  },
  {
   "cell_type": "code",
   "execution_count": 12,
   "metadata": {
    "collapsed": false
   },
   "outputs": [
    {
     "name": "stdout",
     "output_type": "stream",
     "text": [
      "_________________________________________________________________\n",
      "Layer (type)                 Output Shape              Param #   \n",
      "=================================================================\n",
      "conv2d_3 (Conv2D)            (None, 26, 26, 32)        320       \n",
      "_________________________________________________________________\n",
      "conv2d_4 (Conv2D)            (None, 24, 24, 64)        18496     \n",
      "_________________________________________________________________\n",
      "max_pooling2d_2 (MaxPooling2 (None, 12, 12, 64)        0         \n",
      "_________________________________________________________________\n",
      "dropout_3 (Dropout)          (None, 12, 12, 64)        0         \n",
      "_________________________________________________________________\n",
      "flatten_2 (Flatten)          (None, 9216)              0         \n",
      "_________________________________________________________________\n",
      "dense_3 (Dense)              (None, 128)               1179776   \n",
      "_________________________________________________________________\n",
      "dropout_4 (Dropout)          (None, 128)               0         \n",
      "_________________________________________________________________\n",
      "dense_4 (Dense)              (None, 10)                1290      \n",
      "=================================================================\n",
      "Total params: 1,199,882\n",
      "Trainable params: 1,199,882\n",
      "Non-trainable params: 0\n",
      "_________________________________________________________________\n"
     ]
    }
   ],
   "source": [
    "model.summary()"
   ]
  },
  {
   "cell_type": "code",
   "execution_count": 13,
   "metadata": {
    "collapsed": false
   },
   "outputs": [],
   "source": [
    "model.compile(loss=keras.losses.categorical_crossentropy,\n",
    "              optimizer=keras.optimizers.Adadelta(),\n",
    "              metrics=['accuracy'])"
   ]
  },
  {
   "cell_type": "code",
   "execution_count": 14,
   "metadata": {
    "collapsed": true
   },
   "outputs": [],
   "source": [
    "train_loss = []\n",
    "val_loss = []"
   ]
  },
  {
   "cell_type": "code",
   "execution_count": 30,
   "metadata": {
    "collapsed": false,
    "scrolled": true
   },
   "outputs": [
    {
     "name": "stdout",
     "output_type": "stream",
     "text": [
      "Train on 57000 samples, validate on 3000 samples\n",
      "Epoch 1/1\n",
      "57000/57000 [==============================] - 8s 137us/step - loss: 0.0157 - acc: 0.9950 - val_loss: 0.0288 - val_acc: 0.9913\n",
      "Train on 57000 samples, validate on 3000 samples\n",
      "Epoch 1/1\n",
      "57000/57000 [==============================] - 8s 137us/step - loss: 0.0154 - acc: 0.9950 - val_loss: 0.0349 - val_acc: 0.9913\n",
      "Train on 57000 samples, validate on 3000 samples\n",
      "Epoch 1/1\n",
      "57000/57000 [==============================] - 8s 137us/step - loss: 0.0159 - acc: 0.9947 - val_loss: 0.0264 - val_acc: 0.9923\n",
      "Train on 57000 samples, validate on 3000 samples\n",
      "Epoch 1/1\n",
      "57000/57000 [==============================] - 8s 137us/step - loss: 0.0139 - acc: 0.9954 - val_loss: 0.0298 - val_acc: 0.9910\n",
      "Train on 57000 samples, validate on 3000 samples\n",
      "Epoch 1/1\n",
      "57000/57000 [==============================] - 8s 137us/step - loss: 0.0160 - acc: 0.9949 - val_loss: 0.0252 - val_acc: 0.9927\n",
      "Train on 57000 samples, validate on 3000 samples\n",
      "Epoch 1/1\n",
      "57000/57000 [==============================] - 8s 137us/step - loss: 0.0167 - acc: 0.9946 - val_loss: 0.0256 - val_acc: 0.9913\n",
      "Train on 57000 samples, validate on 3000 samples\n",
      "Epoch 1/1\n",
      "57000/57000 [==============================] - 8s 137us/step - loss: 0.0152 - acc: 0.9952 - val_loss: 0.0260 - val_acc: 0.9920\n",
      "Train on 57000 samples, validate on 3000 samples\n",
      "Epoch 1/1\n",
      "57000/57000 [==============================] - 8s 137us/step - loss: 0.0166 - acc: 0.9951 - val_loss: 0.0285 - val_acc: 0.9923\n",
      "Train on 57000 samples, validate on 3000 samples\n",
      "Epoch 1/1\n",
      "57000/57000 [==============================] - 8s 138us/step - loss: 0.0149 - acc: 0.9955 - val_loss: 0.0353 - val_acc: 0.9940\n",
      "Train on 57000 samples, validate on 3000 samples\n",
      "Epoch 1/1\n",
      "57000/57000 [==============================] - 8s 138us/step - loss: 0.0157 - acc: 0.9949 - val_loss: 0.0278 - val_acc: 0.9930\n",
      "Train on 57000 samples, validate on 3000 samples\n",
      "Epoch 1/1\n",
      "57000/57000 [==============================] - 8s 138us/step - loss: 0.0143 - acc: 0.9950 - val_loss: 0.0378 - val_acc: 0.9917\n",
      "Train on 57000 samples, validate on 3000 samples\n",
      "Epoch 1/1\n",
      "57000/57000 [==============================] - 8s 138us/step - loss: 0.0136 - acc: 0.9954 - val_loss: 0.0287 - val_acc: 0.9927\n"
     ]
    },
    {
     "data": {
      "image/png": "[encoded data removed]",
      "text/plain": [
       "<Figure size 432x288 with 1 Axes>"
      ]
     },
     "metadata": {},
     "output_type": "display_data"
    }
   ],
   "source": [
    "%matplotlib inline\n",
    "# Train\n",
    "fig = plt.figure()\n",
    "ax = fig.gca()\n",
    "\n",
    "batch_size = 128\n",
    "epochs = 12\n",
    "\n",
    "for i in range(epochs):\n",
    "    history = model.fit(x_train, y_train, epochs=1, batch_size=batch_size, verbose=1, validation_data=(x_val, y_val))\n",
    "    \n",
    "    train_loss.append(history.history['loss'])\n",
    "    val_loss.append(history.history['val_loss'])\n",
    "    \n",
    "    ax.clear()    \n",
    "    ax.plot(train_loss, color='red', label='Train')\n",
    "    ax.plot(val_loss, color='blue', label='Validation')\n",
    "\n",
    "    fig.canvas.draw()        "
   ]
  },
  {
   "cell_type": "code",
   "execution_count": 79,
   "metadata": {
    "collapsed": false
   },
   "outputs": [
    {
     "name": "stdout",
     "output_type": "stream",
     "text": [
      "Prediction: 7\n"
     ]
    },
    {
     "data": {
      "text/plain": [
       "<matplotlib.image.AxesImage at 0x7f1b644432e8>"
      ]
     },
     "execution_count": 79,
     "metadata": {},
     "output_type": "execute_result"
    },
    {
     "data": {
      "image/png": "[encoded data removed]",
      "text/plain": [
       "<Figure size 432x288 with 1 Axes>"
      ]
     },
     "metadata": {},
     "output_type": "display_data"
    }
   ],
   "source": [
    "%matplotlib inline\n",
    "# Predict random digits from the test set\n",
    "import matplotlib.image as mpimg\n",
    "i = np.random.choice(np.arange(x_test.shape[1]))\n",
    "img_x = x_test[i].reshape([28,28])\n",
    "x = np.array([x_test[i]])\n",
    "print ('Prediction: {}'.format((np.argmax(model.predict(x)))))\n",
    "plt.imshow(img_x,cmap='gray')"
   ]
  },
  {
   "cell_type": "code",
   "execution_count": 35,
   "metadata": {
    "collapsed": false
   },
   "outputs": [
    {
     "name": "stdout",
     "output_type": "stream",
     "text": [
      "Prediction: 4\n"
     ]
    },
    {
     "data": {
      "text/plain": [
       "<matplotlib.image.AxesImage at 0x7f1b8430e7f0>"
      ]
     },
     "execution_count": 35,
     "metadata": {},
     "output_type": "execute_result"
    },
    {
     "data": {
      "image/png": "[encoded data removed]",
      "text/plain": [
       "<Figure size 432x288 with 1 Axes>"
      ]
     },
     "metadata": {},
     "output_type": "display_data"
    }
   ],
   "source": [
    "%matplotlib inline\n",
    "# Predict our hand-written digits\n",
    "# Try it at home: draw a number on a 28x28 black background, using any Paint-like app. See if the model can guess it\n",
    "import matplotlib.image as mpimg\n",
    "img=mpimg.imread('number.png')\n",
    "x = np.array([img[:,:,[0]]])\n",
    "print ('Prediction: {}'.format((np.argmax(model.predict(x)))))\n",
    "plt.imshow(img,cmap='gray')"
   ]
  }
 ],
 "metadata": {
  "kernelspec": {
   "display_name": "Python 3",
   "language": "python",
   "name": "python3"
  },
  "language_info": {
   "codemirror_mode": {
    "name": "ipython",
    "version": 3
   },
   "file_extension": ".py",
   "mimetype": "text/x-python",
   "name": "python",
   "nbconvert_exporter": "python",
   "pygments_lexer": "ipython3",
   "version": "3.6.5"
  }
 },
 "nbformat": 4,
 "nbformat_minor": 2
}
