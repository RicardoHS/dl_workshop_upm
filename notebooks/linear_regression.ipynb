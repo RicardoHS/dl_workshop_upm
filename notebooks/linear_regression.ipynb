{
 "cells": [
  {
   "cell_type": "markdown",
   "metadata": {},
   "source": [
    "# Linear regression\n",
    "This notebook introduces linear regression, implementing each of the examples we saw in the course."
   ]
  },
  {
   "cell_type": "code",
   "execution_count": 2,
   "metadata": {
    "collapsed": true
   },
   "outputs": [],
   "source": [
    "%matplotlib inline\n",
    "import matplotlib.pyplot as plt\n",
    "import numpy as np"
   ]
  },
  {
   "cell_type": "code",
   "execution_count": 3,
   "metadata": {
    "collapsed": true
   },
   "outputs": [],
   "source": [
    "# EXAMPLE: Predict house price (Gijón)\n",
    "# Generate N data instances\n",
    "N = 100\n",
    "x = np.random.uniform(50, 200, size=N)\n",
    "y = [1500*i + np.random.normal(0,i*200) for i in x] # Gijón\n",
    "y = [np.max([i,8]) for i in y]\n",
    "\n",
    "# Transform the data to numpy format for sklearn\n",
    "x = np.array(x).reshape(x.shape + (1,)) # x is one-dimensional and sklearn requires matrix data, so we add one dimension\n",
    "y = np.array(y)\n"
   ]
  },
  {
   "cell_type": "code",
   "execution_count": 4,
   "metadata": {
    "collapsed": false
   },
   "outputs": [
    {
     "data": {
      "image/png": "[encoded data removed]",
      "text/plain": [
       "<matplotlib.figure.Figure at 0x7f6ac63b6e10>"
      ]
     },
     "metadata": {},
     "output_type": "display_data"
    }
   ],
   "source": [
    "# EXAMPLE: Predict house price (Gijón): plot\n",
    "# Preplot\n",
    "fig = plt.figure()\n",
    "ax = fig.gca()\n",
    "\n",
    "# Plot the data points\n",
    "ax.scatter(x, y, label='data')\n",
    "\n",
    "plt.xlabel('m^2')\n",
    "plt.ylabel('Price')\n",
    "ax.set_xlim(0,220)\n",
    "ax.set_ylim(0,700000)\n",
    "#ax.legend()\n",
    "\n",
    "plt.show()"
   ]
  },
  {
   "cell_type": "code",
   "execution_count": 5,
   "metadata": {
    "collapsed": false
   },
   "outputs": [
    {
     "name": "stdout",
     "output_type": "stream",
     "text": [
      "Estimated coefficient: [ 1491.18206116]\n"
     ]
    }
   ],
   "source": [
    "# EXAMPLE: Predict house price (Gijón): estimate model\n",
    "# Train linear regression model\n",
    "from sklearn.linear_model import LinearRegression\n",
    "\n",
    "# This works the same way for all supervised learning algorithms in scikit-learn: create an object and call fit\n",
    "lr = LinearRegression(fit_intercept=False)\n",
    "lr.fit(x, y)\n",
    "w = lr.coef_\n",
    "\n",
    "print 'Estimated coefficient: {}'.format(w)"
   ]
  },
  {
   "cell_type": "code",
   "execution_count": 7,
   "metadata": {
    "collapsed": false
   },
   "outputs": [
    {
     "data": {
      "image/png": "[encoded data removed]",
      "text/plain": [
       "<matplotlib.figure.Figure at 0x7f6ab898d750>"
      ]
     },
     "metadata": {},
     "output_type": "display_data"
    }
   ],
   "source": [
    "# EXAMPLE: Predict house price (Gijón)\n",
    "# Plot\n",
    "fig = plt.figure()\n",
    "ax = fig.gca()\n",
    "\n",
    "# Plot the data points\n",
    "ax.scatter(x, y, label='data')\n",
    "\n",
    "# Compute the estimated function to plot it as a line\n",
    "xb = [np.min(x)-10, np.max(x)+10]\n",
    "z = [w*xb[0], w*xb[1]]\n",
    "\n",
    "ax.plot(xb, z, label='pred', color='red', linewidth=2)\n",
    "plt.xlabel('m^2')\n",
    "plt.ylabel('Price')\n",
    "ax.set_xlim(0,220)\n",
    "ax.set_ylim(0,700000)\n",
    "#ax.legend()\n",
    "\n",
    "plt.show()\n",
    "\n",
    "#plt.savefig('../pres/images/lr_weight_1v_pred.pdf')"
   ]
  },
  {
   "cell_type": "code",
   "execution_count": 8,
   "metadata": {
    "collapsed": false
   },
   "outputs": [
    {
     "name": "stdout",
     "output_type": "stream",
     "text": [
      "m^2: [ 97.84810632]. Predicted price: [ 145909.34086914]\n"
     ]
    }
   ],
   "source": [
    "# EXAMPLE: Predict house price (Gijón)\n",
    "# Predict random samples\n",
    "x = np.random.rand(1)*200\n",
    "print 'm^2: {}. Predicted price: {}'.format(x, w*x)"
   ]
  },
  {
   "cell_type": "code",
   "execution_count": 9,
   "metadata": {
    "collapsed": true
   },
   "outputs": [],
   "source": [
    "# EXAMPLE: predict house price (Madrid)\n",
    "# Generate N data instances\n",
    "N = 100\n",
    "x = np.random.uniform(50, 200, size=N)\n",
    "y = [2000*i + 100000 + np.random.normal(0,i*300) for i in x]\n",
    "\n",
    "# Transform the data to numpy format for sklearn\n",
    "x = np.array(x).reshape(x.shape + (1,)) # x is one-dimensional and sklearn requires matrix data, so we add one dimension\n",
    "y = np.array(y)"
   ]
  },
  {
   "cell_type": "code",
   "execution_count": 10,
   "metadata": {
    "collapsed": false
   },
   "outputs": [
    {
     "name": "stdout",
     "output_type": "stream",
     "text": [
      "Estimated coefficients: [ 1990.6034534], 98836.606382\n"
     ]
    }
   ],
   "source": [
    "# EXAMPLE: predict house price (Madrid)\n",
    "# Train linear regression model\n",
    "\n",
    "lr = LinearRegression(fit_intercept=True)\n",
    "lr.fit(x, y)\n",
    "w = lr.coef_\n",
    "b = lr.intercept_\n",
    "\n",
    "print 'Estimated coefficients: {}, {}'.format(w,b)"
   ]
  },
  {
   "cell_type": "code",
   "execution_count": 11,
   "metadata": {
    "collapsed": false
   },
   "outputs": [
    {
     "data": {
      "image/png": "[encoded data removed]",
      "text/plain": [
       "<matplotlib.figure.Figure at 0x7f6ab8939550>"
      ]
     },
     "metadata": {},
     "output_type": "display_data"
    }
   ],
   "source": [
    "# EXAMPLE: predict house price (Madrid)\n",
    "# Plot\n",
    "\n",
    "fig = plt.figure()\n",
    "ax = fig.gca()\n",
    "\n",
    "ax.scatter(x, y, label='data')\n",
    "\n",
    "# Compute the predicted function to plot it as a line\n",
    "xb = [np.min(x), np.max(x)]\n",
    "z = [w*xb[0]+b, w*xb[1]+b]\n",
    "\n",
    "ax.plot(xb, z, label='pred', color='red', linewidth=2)\n",
    "plt.xlabel('m^2')\n",
    "plt.ylabel('Price')\n",
    "ax.set_xlim(0,220)\n",
    "ax.set_ylim(0,700000)\n",
    "#ax.legend()\n",
    "\n",
    "plt.show()\n",
    "\n",
    "#plt.savefig('../pres/images/lr_madrid_1v_pred.pdf')"
   ]
  },
  {
   "cell_type": "code",
   "execution_count": 12,
   "metadata": {
    "collapsed": true
   },
   "outputs": [],
   "source": [
    "# EXAMPLE: Predict house price with 2 variables\n",
    "# Generate data\n",
    "N = 100\n",
    "x1 = np.random.uniform(50, 200, size=N)\n",
    "x2 = np.random.uniform(0, 75, size=N)\n",
    "y = [2000*i - 1000*j + np.random.normal(0,i*j*10) for i,j in zip(x1,x2)]\n",
    "\n",
    "# Transform the data to numpy format for sklearn\n",
    "x = np.column_stack([x1, x2])\n",
    "y = np.array(y)\n"
   ]
  },
  {
   "cell_type": "code",
   "execution_count": 13,
   "metadata": {
    "collapsed": false
   },
   "outputs": [
    {
     "name": "stdout",
     "output_type": "stream",
     "text": [
      "Estimated coefficients: [ 2103.54758026 -1410.02459286], -7056.38434719\n"
     ]
    }
   ],
   "source": [
    "# EXAMPLE: Predict house price with 2 variables\n",
    "# Train linear regression model\n",
    "lr = LinearRegression(fit_intercept=True)\n",
    "lr.fit(x, y)\n",
    "w = lr.coef_\n",
    "b = lr.intercept_\n",
    "print 'Estimated coefficients: {}, {}'.format(w,b)"
   ]
  },
  {
   "cell_type": "code",
   "execution_count": 15,
   "metadata": {
    "collapsed": false
   },
   "outputs": [
    {
     "data": {
      "image/png": "[encoded data removed]",
      "text/plain": [
       "<matplotlib.figure.Figure at 0x7f6ac4015690>"
      ]
     },
     "metadata": {},
     "output_type": "display_data"
    }
   ],
   "source": [
    "# EXAMPLE: Predict house price with 2 variables\n",
    "# Plot\n",
    "\n",
    "from mpl_toolkits.mplot3d import Axes3D\n",
    "from matplotlib import cm\n",
    "from matplotlib.ticker import LinearLocator, FormatStrFormatter\n",
    "\n",
    "\n",
    "# Build the surface\n",
    "X = np.arange(1, 200, 1)\n",
    "Y = np.arange(0, 75, 1)\n",
    "X, Y = np.meshgrid(X, Y)\n",
    "z_pred = w[0]*X + w[1]*Y + b\n",
    "\n",
    "fig = plt.figure()\n",
    "ax = fig.gca(projection='3d')\n",
    "\n",
    "# Plot the surface.\n",
    "surf = ax.plot_surface(X, Y, z_pred, cmap=cm.coolwarm,\n",
    "                       linewidth=0, antialiased=False, alpha=0.1, edgecolor=(0,0,0,0)) # Set edgecolor to avoid black edge bug when saving surface to PDF\n",
    "\n",
    "plt.xlabel('m^2')\n",
    "plt.ylabel('Distance')\n",
    "ax.set_zlabel('Price')\n",
    "\n",
    "ax.scatter(x1, x2, y)\n",
    "ax.view_init(elev=10, azim=50) #axim=20,80\n",
    "\n",
    "plt.show()\n",
    "#plt.savefig('../pres/images/lr_2v.pdf')\n"
   ]
  },
  {
   "cell_type": "code",
   "execution_count": 22,
   "metadata": {
    "collapsed": false
   },
   "outputs": [
    {
     "name": "stdout",
     "output_type": "stream",
     "text": [
      "m^2: [ 111.51740348], distance to centre: [ 17.58838811]. Predicted price: [ 226133.34369184]\n"
     ]
    }
   ],
   "source": [
    "# Predict random samples\n",
    "x1 = np.random.rand(1)*200+20\n",
    "x2 = np.random.rand(1)*100\n",
    "print 'm^2: {}, distance to centre: {}. Predicted price: {}'.format(x1, x2, w[0]*x1+w[1]+x2+b)"
   ]
  },
  {
   "cell_type": "code",
   "execution_count": 23,
   "metadata": {
    "collapsed": false
   },
   "outputs": [
    {
     "data": {
      "text/plain": [
       "array([ 2103.54758026, -1410.02459286, -7056.38434719])"
      ]
     },
     "execution_count": 23,
     "metadata": {},
     "output_type": "execute_result"
    }
   ],
   "source": [
    "# Estimate coefficients manually. \n",
    "# This is the formula we got after deriving the error function with respect to the coefficients\n",
    "\n",
    "# First, add a column of ones to X to estimate the bias\n",
    "xe = np.column_stack([x,np.ones(x.shape[0])])\n",
    "# then compute the estimate with the normal equations\n",
    "w = np.linalg.inv(xe.T.dot(xe)).dot(xe.T.dot(y))\n",
    "w"
   ]
  },
  {
   "cell_type": "code",
   "execution_count": 24,
   "metadata": {
    "collapsed": true
   },
   "outputs": [],
   "source": [
    "# EXAMPLE: predict house price only from distance\n",
    "# Generate data\n",
    "N = 100\n",
    "x = np.random.uniform(0, 150, size=N)\n",
    "y = [50*(i-60)**2 + 50000 + np.random.normal(0,50000) for i in x]\n",
    "y = [np.max([i,40000+np.random.normal(0,1000)]) for i in y]\n",
    "\n",
    "# Transform the data to numpy format for sklearn\n",
    "x = np.array(x).reshape(x.shape + (1,)) # x is one-dimensional and sklearn requires matrix data, so we add one dimension\n",
    "# Add new variable (feature engineering)\n",
    "x2 = x**2\n",
    "x_aug = np.column_stack([x,x2])\n",
    "y = np.array(y)"
   ]
  },
  {
   "cell_type": "code",
   "execution_count": 25,
   "metadata": {
    "collapsed": false
   },
   "outputs": [
    {
     "name": "stdout",
     "output_type": "stream",
     "text": [
      "Estimated coefficients: [-5649.72152663    47.88962529], 226006.277826\n"
     ]
    },
    {
     "data": {
      "image/png": "[encoded data removed]",
      "text/plain": [
       "<matplotlib.figure.Figure at 0x7f6ab88bc890>"
      ]
     },
     "metadata": {},
     "output_type": "display_data"
    }
   ],
   "source": [
    "# EXAMPLE: predict house price only from distance\n",
    "\n",
    "# Train linear regression model\n",
    "lr = LinearRegression(fit_intercept=True)\n",
    "lr.fit(x_aug, y)\n",
    "w = lr.coef_\n",
    "b = lr.intercept_\n",
    "\n",
    "print 'Estimated coefficients: {}, {}'.format(w,b)\n",
    "\n",
    "fig = plt.figure()\n",
    "ax = fig.gca()\n",
    "\n",
    "ax.scatter(x, y, label='data')\n",
    "\n",
    "# Compute the predicted function to plot it as a line\n",
    "xb = np.arange(int(np.min(x)), int(np.max(x)))\n",
    "z = [w[0]*i + w[1]*i**2 + b for i in xb]\n",
    "\n",
    "ax.plot(xb, z, label='pred', color='red', linewidth=2)\n",
    "\n",
    "plt.xlabel('distance')\n",
    "plt.ylabel('Price')\n",
    "ax.set_xlim(-20,220)\n",
    "ax.set_ylim(-20,500000)\n",
    "#ax.legend()\n",
    "\n",
    "plt.show()\n",
    "\n",
    "#plt.savefig('../pres/images/lr_quad_pred.pdf')"
   ]
  },
  {
   "cell_type": "code",
   "execution_count": 57,
   "metadata": {
    "collapsed": false
   },
   "outputs": [
    {
     "name": "stdout",
     "output_type": "stream",
     "text": [
      "Distance: [ 0.19372564]. Predicted price: [ 224913.57916417]\n"
     ]
    }
   ],
   "source": [
    "# Predict random samples\n",
    "x = np.random.rand(1)*200\n",
    "print 'Distance: {}. Predicted price: {}'.format(x, w[0]*x+w[1]*x**2+b)"
   ]
  },
  {
   "cell_type": "code",
   "execution_count": 88,
   "metadata": {
    "collapsed": true
   },
   "outputs": [],
   "source": [
    "def extend_dataset(X, degree=1):\n",
    "    \"\"\"\n",
    "    This function extends the given data set with entries corresponding to powers of the original entries.\n",
    "    High-order interactions are omitted to avoid combinatorial explosion. Remember, we could also add new features\n",
    "    of the form x_1*x_2, x_1*x_3 (where x_i is the value of feature i), but this would result in way too many\n",
    "    features. You can try adding a random number of such interactions and try various models to see what works best\n",
    "    \"\"\"\n",
    "    X_aug = X\n",
    "    for i in range(2, degree+1):\n",
    "        X_aug = np.column_stack([X_aug,x**i])\n",
    "    return X_aug"
   ]
  },
  {
   "cell_type": "code",
   "execution_count": 89,
   "metadata": {
    "collapsed": true
   },
   "outputs": [],
   "source": [
    "def standardize(x, mean=None, std=None):\n",
    "    \"\"\"\n",
    "    This function transforms the input data to make sure variables are mean-centered and have unit-variance.\n",
    "    Remember: variables could come in very different scales, which can negatively affect learning.    \n",
    "    \"\"\"\n",
    "    if mean is None:\n",
    "        mean = np.mean(x, axis=0)\n",
    "    if std is None:\n",
    "        std = np.std(x, axis=0)\n",
    "    x = (x-mean)/std\n",
    "    return x, mean, std"
   ]
  },
  {
   "cell_type": "markdown",
   "metadata": {},
   "source": [
    "# Overfitting and regularization\n",
    "Here we introduce overfitting. When a model is complex enough, it can represent the idiosynchrasies of the data, such as noise and outliers, which will most likely hurt predictions on new data.\n",
    "\n",
    "To combat this undesirable phenomenon, we can introduce regularizing penalties. Ridge regression and the LASSO are two ways of achieving this with linear regression."
   ]
  },
  {
   "cell_type": "code",
   "execution_count": 106,
   "metadata": {
    "collapsed": true
   },
   "outputs": [],
   "source": [
    "def get_cv_split(X, current_split, count=10):\n",
    "    \"\"\"\n",
    "    This function generates a list of train and test indices for a CV split\n",
    "    \"\"\"\n",
    "    if current_split >= count:\n",
    "        raise ValueError('Current_split must be smaller than count')\n",
    "    N = X.shape[0]\n",
    "    split_size = int(N/float(count))\n",
    "    split = []\n",
    "    test = np.arange(current_split*split_size, np.min([(current_split+1)*split_size, N]))\n",
    "    train = np.delete(np.arange(N), test)\n",
    "    return train, test"
   ]
  },
  {
   "cell_type": "code",
   "execution_count": 107,
   "metadata": {
    "collapsed": true
   },
   "outputs": [],
   "source": [
    "def rmse(y, pred):\n",
    "    \"\"\"\n",
    "    This function computes the root mean squared error between the given samples\n",
    "    \"\"\"\n",
    "    return np.sqrt(np.sum((preds-y)**2)/len(y))"
   ]
  },
  {
   "cell_type": "code",
   "execution_count": 112,
   "metadata": {
    "collapsed": false
   },
   "outputs": [],
   "source": [
    "########################################\n",
    "# Generate data\n",
    "# Examples: Overfitting, ridge, lasso\n",
    "N = 100\n",
    "X = np.random.uniform(50, 200, size=N)\n",
    "y = [1000*i + np.random.normal(0,i*200) for i in X]\n",
    "\n",
    "# Create a new feature vector with powers up to DEGREE\n",
    "DEGREE=18\n",
    "x_aug = extend_vector(X, DEGREE)\n",
    "    \n",
    "# Transform the data to numpy format for sklearn\n",
    "#X = np.array(X).reshape(X.shape + (1,)) # x is one-dimensional and sklearn requires matrix data, so we add one dimension\n",
    "y = np.array(y)\n",
    "\n",
    "# Standardize\n",
    "#x = (x-np.mean(x))/np.std(x)\n",
    "y_mean = np.mean(y)\n",
    "y_std = np.std(y)\n",
    "y = (y-y_mean)/y_std\n",
    "\n",
    "x_aug, x_aug_mean, x_aug_std = standardize(x_aug)"
   ]
  },
  {
   "cell_type": "code",
   "execution_count": 166,
   "metadata": {
    "collapsed": false
   },
   "outputs": [
    {
     "name": "stdout",
     "output_type": "stream",
     "text": [
      "Estimated coefficients: [ -4.66190285e+07   8.76967325e+08  -8.24230978e+09   5.02488029e+10\n",
      "  -2.17919513e+11   6.99971939e+11  -1.69080231e+12   3.05722648e+12\n",
      "  -4.00072935e+12   3.37741777e+12  -8.63437986e+11  -2.24373638e+12\n",
      "   3.97679024e+12  -3.59481000e+12   2.07890663e+12  -7.76545382e+11\n",
      "   1.72129199e+11  -1.72981863e+10], 0.000598261075103\n"
     ]
    }
   ],
   "source": [
    "# Train linear regression model\n",
    "# Note how the resulting coefficients are very high if we use high dimensional polynomial feature vectors\n",
    "lr = LinearRegression(fit_intercept=True)\n",
    "lr.fit(x_aug, y)\n",
    "w = lr.coef_\n",
    "b = lr.intercept_\n",
    "\n",
    "print 'Estimated coefficients: {}, {}'.format(w,b)"
   ]
  },
  {
   "cell_type": "code",
   "execution_count": 167,
   "metadata": {
    "collapsed": false
   },
   "outputs": [
    {
     "name": "stdout",
     "output_type": "stream",
     "text": [
      "207.77901817 [-15565761.49068777]\n"
     ]
    }
   ],
   "source": [
    "# Predict random data\n",
    "# The predictions of an overfitted model are ok within the range of the training data\n",
    "# but very bad for anything else\n",
    "x_test = np.random.uniform(50, 250)\n",
    "xe = extend_vector(x_test, DEGREE)\n",
    "xe = (xe-x_aug_mean)/x_aug_std\n",
    "print x_test, lr.predict(xe)*y_std+y_mean"
   ]
  },
  {
   "cell_type": "code",
   "execution_count": 288,
   "metadata": {
    "collapsed": false
   },
   "outputs": [],
   "source": [
    "# Generate test data to demonstrate the effect of overfitting\n",
    "x_test = np.random.uniform(50, 250, size=N)\n",
    "y_test = [1000*i + np.random.normal(0,i*200) for i in X]\n",
    "yt_mean = np.mean(y_test)\n",
    "yt_std = np.std(y_test)\n",
    "y_test = (y_test-yt_mean)/yt_std\n",
    "\n",
    "x_test_aug = extend_vector(x_test, DEGREE)\n",
    "x_test_aug,_,_ = standardize(x_test_aug, x_aug_mean, x_aug_std)"
   ]
  },
  {
   "cell_type": "code",
   "execution_count": 289,
   "metadata": {
    "collapsed": false
   },
   "outputs": [
    {
     "name": "stdout",
     "output_type": "stream",
     "text": [
      "23829.9356403\n",
      "717263.701067\n"
     ]
    }
   ],
   "source": [
    "# Compute RMSE\n",
    "# With an overfitted model, the error on the training set is fine, but not in the test set\n",
    "preds = lr.predict(x_aug)*y_std+y_mean\n",
    "print rmse(y*y_std+y_mean, preds)\n",
    "\n",
    "preds = lr.predict(x_test_aug)*y_std+y_mean\n",
    "print rmse(y_test*y_std+y_mean, preds)"
   ]
  },
  {
   "cell_type": "code",
   "execution_count": 290,
   "metadata": {
    "collapsed": false
   },
   "outputs": [
    {
     "name": "stdout",
     "output_type": "stream",
     "text": [
      "Train RMSE: 23884.7025648\n",
      "Test RMSE: 21447.5026804\n",
      "Train RMSE: 24136.2416332\n",
      "Test RMSE: 33893.3708727\n",
      "Train RMSE: 23925.3585622\n",
      "Test RMSE: 18269.6697501\n",
      "Train RMSE: 24051.8368627\n",
      "Test RMSE: 23551.631339\n"
     ]
    }
   ],
   "source": [
    "########################################\n",
    "# Cross validation\n",
    "########################################\n",
    "# A basic example of CV. Remember: in oder to know how well our model will do in the wild, we need to take apart\n",
    "# a test split, which is not used for training. In k-fold CV, we make k such splits. For each split, we train on one\n",
    "# bit of the data and test on the rest. We can then take the mean and standard deviation of the errors and\n",
    "# tweak the parameters if necessary.\n",
    "k=4\n",
    "for i in range(k):\n",
    "    t = np.arange(N)\n",
    "    train, test = get_cv_split(t, i, k)\n",
    "    x_train = x_aug[train,:]\n",
    "    x_test = x_aug[test,:]\n",
    "    y_train = y[train]\n",
    "    y_test = y[test]\n",
    "\n",
    "    # Fit the model to the train data, then test on the test split\n",
    "    lr.fit(x_train, y_train)\n",
    "    \n",
    "    preds = lr.predict(x_aug)*y_std+y_mean\n",
    "    print 'Train RMSE: {}'.format(rmse(y*y_std+y_mean, preds))\n",
    "\n",
    "    preds = lr.predict(x_test)*y_std+y_mean\n",
    "    print 'Test RMSE: {}'.format(rmse(y_test*y_std+y_mean, preds))"
   ]
  },
  {
   "cell_type": "code",
   "execution_count": 291,
   "metadata": {
    "collapsed": false
   },
   "outputs": [
    {
     "name": "stdout",
     "output_type": "stream",
     "text": [
      "Estimated coefficients: [ 0.6435039   0.26733462  0.06361351 -0.02621161 -0.05601279 -0.06053244\n",
      " -0.05730721 -0.0530367  -0.04891198 -0.04389042 -0.03639155 -0.02504553\n",
      " -0.00894395  0.01234322  0.03884468  0.07029041  0.10620924  0.14601015], -1.14364986237e-16\n"
     ]
    }
   ],
   "source": [
    "# EXAMPLE: Ridge regression\n",
    "from sklearn.linear_model import Ridge\n",
    "\n",
    "# Train ridge regression model\n",
    "# Try going up and generating a test set again, then compute the RMSE\n",
    "# Try different values of alpha (strength of the regularization). It might take a few tries to get a good model\n",
    "lr = Ridge(alpha=1, fit_intercept=True)\n",
    "lr.fit(x_aug, y)\n",
    "w = lr.coef_\n",
    "b = lr.intercept_\n",
    "\n",
    "print 'Estimated coefficients: {}, {}'.format(w,b)"
   ]
  },
  {
   "cell_type": "code",
   "execution_count": 292,
   "metadata": {
    "collapsed": false
   },
   "outputs": [
    {
     "name": "stdout",
     "output_type": "stream",
     "text": [
      "Estimated coefficients: [ 0.78573301  0.         -0.         -0.         -0.         -0.         -0.\n",
      " -0.         -0.         -0.          0.          0.          0.          0.\n",
      "  0.          0.          0.          0.12800416], -9.38804275485e-17\n"
     ]
    }
   ],
   "source": [
    "#EXAMPLE: Lasso\n",
    "from sklearn.linear_model import Lasso\n",
    "\n",
    "# Train Lasso model\n",
    "# Try going up and generating a test set again, then compute the RMSE\n",
    "# Try different values of alpha (strength of the regularization). It might take a few tries to get a good model\n",
    "lr = Lasso(alpha=0.01, fit_intercept=True)\n",
    "lr.fit(x_aug, y)\n",
    "w = lr.coef_\n",
    "b = lr.intercept_\n",
    "\n",
    "print 'Estimated coefficients: {}, {}'.format(w,b)"
   ]
  },
  {
   "cell_type": "code",
   "execution_count": 293,
   "metadata": {
    "collapsed": false
   },
   "outputs": [
    {
     "data": {
      "image/png": "[encoded data removed]",
      "text/plain": [
       "<matplotlib.figure.Figure at 0x7f6ab86e9d90>"
      ]
     },
     "metadata": {},
     "output_type": "display_data"
    }
   ],
   "source": [
    "############################################\n",
    "# PLOTS\n",
    "# Examples: overfitting, ridge, lasso\n",
    "\n",
    "fig = plt.figure()\n",
    "ax = fig.gca()\n",
    "\n",
    "ax.scatter(X, y, label='data')\n",
    "\n",
    "# Compute the predicted function to plot it as a line\n",
    "xb = np.arange(-10,210,0.1)\n",
    "xb_aug = extend_vector(xb, DEGREE)\n",
    "xb_aug = (xb_aug-x_aug_mean)/x_aug_std\n",
    "\n",
    "z = [w.T.dot(i) + b for i in xb_aug]\n",
    "\n",
    "ax.plot(xb, z, label='pred', color='red', linewidth=2)\n",
    "plt.xlabel('m^2')\n",
    "plt.ylabel('Price')\n",
    "ax.set_xlim(0,220)\n",
    "ax.set_ylim(-3,5)\n",
    "#ax.legend()\n",
    "\n",
    "plt.show()\n",
    "\n",
    "#plt.savefig(('../pres/images/ridge_p.pdf'))"
   ]
  },
  {
   "cell_type": "code",
   "execution_count": 296,
   "metadata": {
    "collapsed": false
   },
   "outputs": [
    {
     "name": "stdout",
     "output_type": "stream",
     "text": [
      "Distance: [ 255.06957841]. Predicted price: 3674032.25418\n"
     ]
    }
   ],
   "source": [
    "# Predict random samples\n",
    "x = np.random.rand(1)*300\n",
    "x_aug_t = [x]\n",
    "for i in range(2, DEGREE+1):\n",
    "    x_aug_t.append(float(x**i))  \n",
    "x_aug_t = np.array(x_aug_t).astype(np.float)\n",
    "x_aug_t = (x_aug_t - x_aug_mean)/x_aug_std\n",
    "print 'Distance: {}. Predicted price: {}'.format(x, (w.T.dot(x_aug_t)+b) * y_std + y_mean)"
   ]
  }
 ],
 "metadata": {
  "kernelspec": {
   "display_name": "Python 2",
   "language": "python",
   "name": "python2"
  },
  "language_info": {
   "codemirror_mode": {
    "name": "ipython",
    "version": 2
   },
   "file_extension": ".py",
   "mimetype": "text/x-python",
   "name": "python",
   "nbconvert_exporter": "python",
   "pygments_lexer": "ipython2",
   "version": "2.7.6"
  }
 },
 "nbformat": 4,
 "nbformat_minor": 0
}
