{
 "cells": [
  {
   "cell_type": "markdown",
   "metadata": {},
   "source": [
    "# Logistic regression\n",
    "This notebook introduces logistic regression, implementing each of the examples we saw in the course."
   ]
  },
  {
   "cell_type": "code",
   "execution_count": 1,
   "metadata": {
    "collapsed": true,
    "deletable": true,
    "editable": true
   },
   "outputs": [],
   "source": [
    "%matplotlib inline\n",
    "%matplotlib notebook\n",
    "import matplotlib.pyplot as plt\n",
    "import numpy as np"
   ]
  },
  {
   "cell_type": "code",
   "execution_count": 2,
   "metadata": {
    "collapsed": true,
    "deletable": true,
    "editable": true
   },
   "outputs": [],
   "source": [
    "def sigmoid(x):\n",
    "    return 1/(1+np.exp(-x))"
   ]
  },
  {
   "cell_type": "code",
   "execution_count": 9,
   "metadata": {
    "collapsed": true,
    "deletable": true,
    "editable": true
   },
   "outputs": [],
   "source": [
    "def get_sample(N=50):\n",
    "    b_boys = 2\n",
    "    b_girls = .6    \n",
    "    x_boys = np.random.uniform(10, 18, size=N//2)\n",
    "    x_girls = np.random.uniform(10, 18, size=N//2)\n",
    "    y_boys = [3.5*i + b_boys*(i) + np.random.normal(0,i//2) for i in x_boys]\n",
    "    y_girls = [3.5*i + b_girls*(i) + np.random.normal(0,i//2) for i in x_girls]\n",
    "    return x_boys, x_girls, y_boys, y_girls"
   ]
  },
  {
   "cell_type": "code",
   "execution_count": 12,
   "metadata": {
    "collapsed": true,
    "deletable": true,
    "editable": true
   },
   "outputs": [],
   "source": [
    "def prepare(x_boys, x_girls, y_boys, y_girls):\n",
    "    X1 = np.concatenate([x_boys, x_girls])\n",
    "    X2 = np.concatenate([y_boys, y_girls])\n",
    "    X = np.vstack([X1, X2]).T\n",
    "    y = np.vstack([np.zeros(N//2), np.zeros(N//2)+1]).flatten()\n",
    "    return X,y"
   ]
  },
  {
   "cell_type": "code",
   "execution_count": 13,
   "metadata": {
    "collapsed": true,
    "deletable": true,
    "editable": true
   },
   "outputs": [],
   "source": [
    "# Generate data\n",
    "# We have the height and weight of a bunch of young kids, and we must guess if they're a boy or a girl\n",
    "N = 200\n",
    "x_boys, x_girls, y_boys, y_girls = get_sample(N=N)\n",
    "X,y = prepare(x_boys, x_girls, y_boys, y_girls)\n",
    "\n",
    "# Split train and test\n",
    "split = 100\n",
    "train_ids = np.random.choice(np.arange(N), split, replace=False)\n",
    "test_ids = np.delete(np.arange(N), train_ids)\n",
    "X_train = X[train_ids,:]\n",
    "y_train = y[train_ids]\n",
    "X_test = X[test_ids,:]\n",
    "y_test = y[test_ids]"
   ]
  },
  {
   "cell_type": "code",
   "execution_count": 14,
   "metadata": {
    "collapsed": false,
    "deletable": true,
    "editable": true
   },
   "outputs": [
    {
     "name": "stdout",
     "output_type": "stream",
     "text": [
      "Predicted coefficients: [ 1.89575983 -0.40071225  0.02212363]\n"
     ]
    }
   ],
   "source": [
    "# Train a logistic regression model\n",
    "from sklearn.linear_model import  LogisticRegression\n",
    "clf = LogisticRegression()\n",
    "clf.fit(X_train,y_train)\n",
    "w = np.concatenate([clf.coef_[0], clf.intercept_])\n",
    "print('Predicted coefficients: {}' .format(w))"
   ]
  },
  {
   "cell_type": "code",
   "execution_count": 15,
   "metadata": {
    "collapsed": false,
    "deletable": true,
    "editable": true
   },
   "outputs": [
    {
     "data": {
      "text/plain": [
       "'Boy'"
      ]
     },
     "execution_count": 15,
     "metadata": {},
     "output_type": "execute_result"
    }
   ],
   "source": [
    "# Predict a manually chosen instance\n",
    "age = 12\n",
    "weight = 59\n",
    "x = np.array([age, weight]).reshape([1,2])\n",
    "'Girl' if clf.predict(x) else 'Boy'"
   ]
  },
  {
   "cell_type": "code",
   "execution_count": 16,
   "metadata": {
    "collapsed": false,
    "deletable": true,
    "editable": true
   },
   "outputs": [
    {
     "data": {
      "image/png": "[encoded data removed]",
      "text/plain": [
       "<Figure size 432x288 with 1 Axes>"
      ]
     },
     "metadata": {},
     "output_type": "display_data"
    }
   ],
   "source": [
    "# compute reference points for plotting the separating hyperplane\n",
    "a = -w[0]/w[1]\n",
    "b = w[2]\n",
    "w\n",
    "\n",
    "fig = plt.figure()\n",
    "ax = fig.gca()\n",
    "\n",
    "boys = np.array([X_test[i] for i in range(X_test.shape[0]) if y_test[i] == 0])\n",
    "girls = np.array([X_test[i] for i in range(X_test.shape[0]) if y_test[i] == 1])\n",
    "ax.scatter(boys[:,0], boys[:,1], label='Boys', color='red')\n",
    "ax.scatter(girls[:,0], girls[:,1], label='Girls')\n",
    "\n",
    "xb = [10,18]\n",
    "z = [a*x+b for x in xb]\n",
    "ax.plot(xb, z, label='pred', color='black', linewidth=2)\n",
    "plt.xlabel('Age')\n",
    "plt.ylabel('Weight')\n",
    "ax.legend(loc='best')\n",
    "\n",
    "ax.set_ylim(0,20)\n",
    "ax.set_ylim(0,150)\n",
    "\n",
    "plt.show()\n",
    "\n",
    "#plt.savefig('../pres/images/logreg.pdf')"
   ]
  },
  {
   "cell_type": "code",
   "execution_count": 17,
   "metadata": {
    "collapsed": false,
    "deletable": true,
    "editable": true
   },
   "outputs": [
    {
     "name": "stdout",
     "output_type": "stream",
     "text": [
      "Initial w: [0.38445012 0.890863   0.11679545]\n"
     ]
    }
   ],
   "source": [
    "# Gradient ascent by hand\n",
    "# first we choose a learning rate (alpha) and a random set of initial coefficients\n",
    "# The algorithm is in the cell below\n",
    "alpha = 0.005\n",
    "X_train_1s = np.column_stack([X_train, np.ones(X_train.shape[0])])\n",
    "w = np.random.rand(3)\n",
    "print('Initial w: {}'.format(w))\n",
    "iterated = 0"
   ]
  },
  {
   "cell_type": "code",
   "execution_count": 19,
   "metadata": {
    "collapsed": false,
    "deletable": true,
    "editable": true
   },
   "outputs": [
    {
     "data": {
      "image/png": "[encoded data removed]",
      "text/plain": [
       "<Figure size 432x288 with 1 Axes>"
      ]
     },
     "metadata": {},
     "output_type": "display_data"
    },
    {
     "name": "stderr",
     "output_type": "stream",
     "text": [
      "/usr/local/lib/python3.6/dist-packages/ipykernel_launcher.py:2: RuntimeWarning: overflow encountered in exp\n",
      "  \n"
     ]
    },
    {
     "name": "stdout",
     "output_type": "stream",
     "text": [
      "Final w: [ 1.31645781 -1.3922942   0.17943156]\n"
     ]
    }
   ],
   "source": [
    "# Here we run gradient ascent\n",
    "# Note that the coefficients might not converge to the same ones as scikit-learn estimated. That is because\n",
    "# they use a different optimization algorithm. The corresponding hyperplane, however, is roughly the same.\n",
    "# After 100 iterations or so, with decreasing learning rate, we should reach more or less the same solution\n",
    "import time\n",
    "ITERATIONS = 50\n",
    "\n",
    "fig = plt.figure()\n",
    "ax = fig.gca()\n",
    "plt.ion()\n",
    "boys = np.array([X_test[i] for i in range(X_test.shape[0]) if y_test[i] == 0])\n",
    "girls = np.array([X_test[i] for i in range(X_test.shape[0]) if y_test[i] == 1])\n",
    "ax.scatter(boys[:,0], boys[:,1], label='Boys', color='red')\n",
    "ax.scatter(girls[:,0], girls[:,1], label='Girls')\n",
    "\n",
    "xb = [10,18]\n",
    "z = [a*x+b for x in xb]\n",
    "ax.plot(xb, z, label='pred', color='black', linewidth=2)\n",
    "plt.xlabel('Age')\n",
    "plt.ylabel('Weight')\n",
    "ax.legend(loc='best')\n",
    "\n",
    "ax.set_ylim(0,20)\n",
    "ax.set_ylim(0,150)\n",
    "\n",
    "plt.show()\n",
    "\n",
    "for i in range(1,ITERATIONS):\n",
    "    grad = np.sum([xi*(yi-sigmoid(w.T.dot(xi))) for xi,yi in zip(X_train_1s, y_train) ], axis=0)\n",
    "    iterated += 1\n",
    "\n",
    "    w = w+alpha/float(iterated)*grad\n",
    "    alpha = alpha*0.9 # The learning rate can be shrinked to help convergence\n",
    "    \n",
    "    a = -w[0]/w[1]\n",
    "    b = w[2]\n",
    "    z = [a*x+b for x in xb]\n",
    "    time.sleep(0.001) # Sleep to visualize the animation better\n",
    "\n",
    "    ax.clear()\n",
    "    ax.set_title(str(iterated))\n",
    "    ax.set_ylim(0,20)\n",
    "    ax.set_ylim(0,150)\n",
    "    ax.scatter(boys[:,0], boys[:,1], label='Boys', color='red')\n",
    "    ax.scatter(girls[:,0], girls[:,1], label='Girls')\n",
    "    ax.plot(xb, z, label='pred', color='black', linewidth=2)\n",
    "    fig.canvas.draw()    \n",
    "    \n",
    "print('Final w: {}'.format(w))"
   ]
  },
  {
   "cell_type": "code",
   "execution_count": 22,
   "metadata": {
    "collapsed": false,
    "deletable": true,
    "editable": true
   },
   "outputs": [
    {
     "name": "stdout",
     "output_type": "stream",
     "text": [
      "Accuracy:  0.96\n",
      "Precision: 0.9814814814814815\n",
      "Recall:    0.9464285714285714\n",
      "F1:        0.9636363636363636\n"
     ]
    }
   ],
   "source": [
    "#Measure accuracy\n",
    "preds = clf.predict(X_test)\n",
    "print('Accuracy:  {}'.format(len(list(filter(lambda x: x[0] == x[1], zip(preds, y_test))))/ float(len(preds))))\n",
    "\n",
    "from sklearn import metrics\n",
    "print('Precision: {}'.format(metrics.precision_score(y_test, preds)))\n",
    "print('Recall:    {}'.format(metrics.recall_score(y_test, preds)))\n",
    "print('F1:        {}'.format(metrics.f1_score(y_test, preds)))\n"
   ]
  },
  {
   "cell_type": "code",
   "execution_count": 23,
   "metadata": {
    "collapsed": false,
    "deletable": true,
    "editable": true
   },
   "outputs": [
    {
     "data": {
      "image/png": "[encoded data removed]",
      "text/plain": [
       "<Figure size 432x288 with 1 Axes>"
      ]
     },
     "metadata": {},
     "output_type": "display_data"
    }
   ],
   "source": [
    "# A plot of the sigmoid function\n",
    "fig = plt.figure()\n",
    "ax = fig.gca()\n",
    "\n",
    "xb = np.arange(-10,10,0.01)\n",
    "z = [sigmoid(x) for x in xb]\n",
    "ax.plot(xb, z, label='pred', linewidth=1)\n",
    "ax.grid(True, which='both')\n",
    "ax.axhline(y=0.5, color='k')\n",
    "ax.axvline(x=0, color='k')\n",
    "\n",
    "plt.show()\n",
    "#plt.savefig('../pres/images/sigmoid.pdf')"
   ]
  }
 ],
 "metadata": {
  "kernelspec": {
   "display_name": "Python 3",
   "language": "python",
   "name": "python3"
  },
  "language_info": {
   "codemirror_mode": {
    "name": "ipython",
    "version": 3
   },
   "file_extension": ".py",
   "mimetype": "text/x-python",
   "name": "python",
   "nbconvert_exporter": "python",
   "pygments_lexer": "ipython3",
   "version": "3.6.5"
  }
 },
 "nbformat": 4,
 "nbformat_minor": 2
}
